{
 "cells": [
  {
   "cell_type": "markdown",
   "metadata": {
    "collapsed": false
   },
   "source": [
    "# Compte rendu Du Projet SAE 15\n",
    "### Par **HARTMANN** Matthias et **BIENVENU** Victor\n",
    "Dans le cadre du Projet de SAE 15, nous avons dû produire un outil d'analyse de l'activité d'un serveur.\n",
    "Vous retrouverez cet outil dans ce notebook python.\n",
    "Dans un premier temps vous verrez l'ensembles des fonctions pythons qui ont été écrites pour cet outil et elles vous seront commentées.\n",
    "Ensuite vous pourrez accédez à l'outil qui vous permettra de visualiser de plusieurs façons les activités suivantes :\n",
    "- Le nombre et les ports ouverts sur le serveur\n",
    "- La connectivité du serveur par rapport à un autre serveur.\n"
   ]
  },
  {
   "cell_type": "markdown",
   "metadata": {
    "collapsed": false
   },
   "source": [
    "## Partie 1 : Les fonctions pythons"
   ]
  },
  {
   "cell_type": "markdown",
   "metadata": {
    "collapsed": false
   },
   "source": [
    "### Importation des modules permettant l'exploitations des fichiers CSV et la génération de graphiques"
   ]
  },
  {
   "cell_type": "code",
   "execution_count": 1,
   "metadata": {
    "collapsed": false
   },
   "outputs": [],
   "source": [
    "import csv\n",
    "import numpy as np\n",
    "from typing import Dict, List\n",
    "import matplotlib.pyplot as plt\n",
    "from dateutil import parser\n",
    "from datetime import datetime\n",
    "import sys\n",
    "import ipywidgets as widgets\n",
    "from IPython.display import display, clear_output, Markdown\n"
   ]
  },
  {
   "cell_type": "markdown",
   "metadata": {
    "collapsed": false
   },
   "source": [
    "### Fonctions qui permettent de gérer les dates et les timestamps (Utilisé par les deux métriques) "
   ]
  },
  {
   "cell_type": "code",
   "execution_count": 2,
   "metadata": {
    "collapsed": false
   },
   "outputs": [],
   "source": [
    "def dateFormatter(epoch:int, _ = None) -> str :\n",
    "    \"\"\"!\n",
    "    @brief Cette fonction permet de convertir un timestamp epoch en une date compréhensible.\n",
    "\n",
    "    Paramètres : \n",
    "        @param epoch : int => timestamp dans le format epoch\n",
    "        @param _ = None => Un paramètre qui est requis par matplotlib mais non utilisé par la fonction\n",
    "    Retour de la fonction : \n",
    "        @return str => La date compréhensible\n",
    "\n",
    "    \"\"\"\n",
    "    if epoch > 0:\n",
    "        return str(datetime.fromtimestamp(epoch))\n",
    "    return \"\"\n",
    "\n",
    "def inverseDateFormatter(date: str) -> str:\n",
    "    return int(parser.parse(date).timestamp())\n",
    "\n",
    "def secondsToTime(s):\n",
    "    hour = s // 3600\n",
    "    s = s % 3600\n",
    "    minute = s // 60\n",
    "    s = s % 60\n",
    "    return f'{hour}:{minute}:{s}'\n",
    "\n",
    "def xlabels(tmps):\n",
    "        l = []\n",
    "        for i in list(tmps):\n",
    "            if i not in l:\n",
    "                l.append(dateFormatter(i))\n",
    "            else:\n",
    "                l.append(\"\")\n",
    "        return l\n",
    "\n",
    "\n",
    "def ticks(tickList : list, axe=\"x\"):\n",
    "    if axe == \"x\":\n",
    "        if len(tickList)> 4:\n",
    "\n",
    "            x : list = [\n",
    "                tickList[0],\n",
    "                tickList[int(len(tickList) * 1/4)], \n",
    "                tickList[int(len(tickList) * 2/4)], \n",
    "                tickList[int(len(tickList) * 3/4)], \n",
    "                tickList[-1]\n",
    "            ]\n",
    "            plt.xticks(x, xlabels(x))\n",
    "        else:\n",
    "            plt.xticks(tickList, xlabels(tickList))"
   ]
  },
  {
   "cell_type": "markdown",
   "metadata": {
    "collapsed": false
   },
   "source": [
    "### Partie 1.1 : L'analyse des ports"
   ]
  },
  {
   "cell_type": "markdown",
   "metadata": {
    "collapsed": false
   },
   "source": [
    "#### Fonctions permettant de récuppérer le protocol associé à un numéro de port."
   ]
  },
  {
   "cell_type": "code",
   "execution_count": 3,
   "metadata": {
    "collapsed": false
   },
   "outputs": [],
   "source": [
    "def _getDico():\n",
    "    \"\"\"!\n",
    "    @brief Cette fonction permet de créer un dictionnaire à partir d'un tableau csv. Le tableau représente les numéros de ports correspondant à des protocols connus\n",
    "    \"\"\"\n",
    "    with open('./python/portsList.csv', 'r') as csv_file:\n",
    "        csv_reader = csv.reader(csv_file)\n",
    "        dico:Dict[int, str] = {} # création du dictionnaire\n",
    "        for row in csv_reader:\n",
    "            try:\n",
    "                dico[int(row[1])] = row[0] #Si la ligne du csv possède un port correct alors on le met dans le dictionnaire en tant que clé et son protocol en tant que valeur\n",
    "            except:\n",
    "                pass\n",
    "    return dico  \n",
    "\n",
    "_listport = _getDico() #On sauvegarde le dictionnaire pour ne pas le regénérer à chaque appel de fonction.\n",
    "def converter(port:str) -> str or None:\n",
    "    \"\"\"!\n",
    "    @brief Cette fonction permet de récuppérer un protocol à partir d'un numéro de port.\n",
    "\n",
    "    Paramètres : \n",
    "        @param port : str => Le numéro de port dont on souhaite connaitre le protocol\n",
    "    Retour de la fonction : \n",
    "        @return str or None => Le protocol associé au numéro de port ou None si aucun n'a été trouvé\n",
    "\n",
    "    \"\"\"\n",
    "    try:\n",
    "        return _listport.get(int(port), None)\n",
    "    except:\n",
    "        return None\n"
   ]
  },
  {
   "cell_type": "markdown",
   "metadata": {
    "collapsed": false
   },
   "source": [
    "#### Récuppération des donnés représentant l'activité des ports du serveur."
   ]
  },
  {
   "cell_type": "code",
   "execution_count": 4,
   "metadata": {
    "collapsed": false
   },
   "outputs": [],
   "source": [
    "def recupperationDonnesPorts(chemin:str) -> Dict[str, Dict[int, Dict[str, str or None]]]:\n",
    "    \"\"\"!\n",
    "    @brief Cette fonction permet de récupperer les données relatives à l'activité des ports et de les convertir en un Dictionnaire utilisable par les fonctions suivantes.\n",
    "\n",
    "    Paramètres : \n",
    "        @param chemin : str => Le chemin menant au fichier csv où se trouve les données d'activité des ports.\n",
    "    Retour de la fonction : \n",
    "        @return Dict[str, Dict[int, Dict[str, str]]] => Le dictionnaire représentant les données des ports. \n",
    "\n",
    "    \"\"\"\n",
    "\n",
    "    dico = {}\n",
    "    with open(chemin, newline='') as csvfile:\n",
    "        datareader = csv.reader(csvfile, delimiter=',', quotechar='|')\n",
    "        for row in datareader: # pour chaque ligne du fichier csv\n",
    "            \"\"\"\n",
    "            Les données du csv sont organisées comme suit :\n",
    "            @ip,port,protocol,timestamp\n",
    "            \"\"\"\n",
    "\n",
    "            interface : str = row[0] #On recuppère l'adresse ip liée à l'interface\n",
    "            temps : int = int(row[3]) #On récuppère le timestamp\n",
    "            port : str = row[1] # On récuppère le port\n",
    "            protocol : str or None = converter(row[2]) # Et on récuppère le protocol, celui-ci étant un numéro de port nous devons le convertir grace à la fonction converter(vue plus haut)\n",
    "            \n",
    "            \"\"\"\n",
    "            Nous suivons ensuite l'algorithme suivant:\n",
    "\n",
    "            Si l'adresse ip se trouve déjà dans les clés du dictionnaire principal\n",
    "                Si le timestamp se trouve déjà dans les clés du dictionnaire associé à l'interface\n",
    "                    On ajoute un nouveau couple clé valeur (port, protocol) dans le dictionnaire associé au timestamp\n",
    "                Sinon\n",
    "                    On crée un nouveau dictionnaire ayant déjà un couple clé valeur (port, protocol) que l'on assigne comme étant le dictionnaire associé au timestamp\n",
    "            Sinon\n",
    "                On crée un nouveau dictionnaire ayant pour clé le timestamp et pour valeur un autre dictionnaire avec le couple (port, protocol) que l'on assigne à l'interface \n",
    "                courante dans le dictionnaire principal.\n",
    "            \"\"\"\n",
    "\n",
    "            if interface in dico:\n",
    "                if temps in dico[interface]:\n",
    "                    dico[interface][temps][port] = protocol\n",
    "                else:\n",
    "                    dico[interface][temps] = {port:protocol}\n",
    "            else:\n",
    "                dico[interface] = {\n",
    "                    temps:{port:protocol}\n",
    "                }\n",
    "                \n",
    "    return dico # On renvoie le dictionnaire principal."
   ]
  },
  {
   "cell_type": "markdown",
   "metadata": {
    "collapsed": false
   },
   "source": [
    "#### Fonction générant le premier graphique représentant le nombre de port ouvert sur le serveur (ou sur une interface particulière) en fonction du temps"
   ]
  },
  {
   "cell_type": "code",
   "execution_count": 5,
   "metadata": {
    "collapsed": false
   },
   "outputs": [],
   "source": [
    "def affichageNombrePort(portDict: Dict[str, Dict[int, Dict[str, str or None]]], interface=\"toutes\", temps_debut:int=-1, temps_fin:int = float('inf')):\n",
    "    \"\"\"!\n",
    "    @brief Cette fonction permet de générer un histogram représenant le nombre de port ouverts sur le serveur ou sur une interface en fonction d'une période \n",
    "\n",
    "    Paramètres : \n",
    "        @param portDict : Dict[str,np.ndarray] => Le dictionnaire représentant les données d'activité des ports\n",
    "        @param interface = \"toutes\" => L'adresse ip de l'interface à observer, par défaut toutes les interfaces seront prises en compte.\n",
    "        @param temps_debut : int = -1 => Le timestamp de début de période, par défaut tous les timestamps seront compris\n",
    "        @param temps_fin : int = float('inf') => Le timestamp de fin de période, par défaut tous les timestamps seront compris\n",
    "\n",
    "    \"\"\"\n",
    "    times = {} # On prépare un dictionnaire qui nous permettra d'avoir en clé les timestamps et en valeurs le nombre de ports qui était ouvert à cet instant.\n",
    "    fig, axs = plt.subplots() #On prépare une fenêtre matplotlib\n",
    "\n",
    "\n",
    "    \"\"\"\n",
    "    On suit l'algorithme suivant:\n",
    "\n",
    "    Si l'interface entrée en paramètre n'existe pas dans les clés de portDict\n",
    "        Pour chaque interface\n",
    "            Pour chaque timestamp dans les clés de portDict[interface]\n",
    "                Si le timestamp se trouve déjà dans les clés de times\n",
    "                    On augmente le total se trouvant dans times[temps] par le nombre de ports se trouvant dans le dictionnaire associé au timestamp\n",
    "                Sinon\n",
    "                    On place le nombre de ports se trouvant dans le dictionnaire associé au timestamp dans times[temps]\n",
    "    Sinon\n",
    "        Pour chaque timestamp dans les clés de portDict[interface]\n",
    "            Si le timestamp se trouve déjà dans les clés de times\n",
    "                On augmente le total se trouvant dans times[temps] par le nombre de ports se trouvant dans le dictionnaire associé au timestamp\n",
    "            Sinon\n",
    "                On place le nombre de ports se trouvant dans le dictionnaire associé au timestamp dans times[temps]\n",
    "    \"\"\"\n",
    "    \n",
    "\n",
    "    if interface not in portDict:\n",
    "        fig.suptitle(\"Nombre de port ouverts par rapport au temps (toutes interfaces)\", fontsize=24)\n",
    "        for inter in portDict:\n",
    "            for temps in portDict[inter]:\n",
    "                if temps_debut <= temps and temps <= temps_fin:\n",
    "                    if temps in times:\n",
    "                        times[temps] += len(portDict[inter][temps])\n",
    "                    else:\n",
    "                        times[temps] = len(portDict[inter][temps])\n",
    "    else:\n",
    "        fig.suptitle(f\"Nombre de port ouverts par rapport au temps (Interface : {interface})\", fontsize=24)\n",
    "        for temps in portDict[interface]:\n",
    "            if temps_debut < temps and temps < temps_fin:\n",
    "                if temps in times :\n",
    "                    times[temps] += len(portDict[interface][temps])\n",
    "                else:\n",
    "                    times[temps] = len(portDict[interface][temps])\n",
    "    \n",
    "\n",
    "    axs.bar(times.keys(),times.values(), width=4) # On crée un histogram ayant pour X les timestamps (times.keys()) et pour y les totaux (times.values)\n",
    "    axs.xaxis.set_major_formatter(dateFormatter) # On demande à matplotlib d'utiliser la fonction dateFormatter pour afficher des dates compréhensible au lieu des timestamps normaux\n",
    "    fig.autofmt_xdate() # On active la fonction de matplotlib permettant d'afficher en diagonale les dates pour faciliter la lecture "
   ]
  },
  {
   "cell_type": "markdown",
   "metadata": {
    "collapsed": false
   },
   "source": [
    "#### Fonction générant le deuxième Graphique représentant l'état d'un numéro de port sur le serveur(ou bien sur une interface particulière) en fonction d'une période "
   ]
  },
  {
   "cell_type": "code",
   "execution_count": 6,
   "metadata": {
    "collapsed": false
   },
   "outputs": [],
   "source": [
    "def affichageActivitePort(portDict: Dict[str, Dict[int, Dict[str, str or None]]], port: str, interface:str =\"toutes\", temps_debut:int=-1, temps_fin:int = float('inf')):\n",
    "    \"\"\"!\n",
    "    @brief Cette fonction permet d'afficher un graphique montrant l'état d'un port\n",
    "\n",
    "    Paramètres : \n",
    "        @param portDict : Dict[str,Dict[int,Dict[str,strorNone]]] => Le dictionnaire représentant les données d'activité des ports\n",
    "        @param port : str => le numéro du port à observer\n",
    "        @param interface : str = \"toutes\" => l'adresse ip de l'interface sur laquelle observer le port, par défaut toutes les interfaces seront affichées.\n",
    "        @param temps_debut : int = -1 => Le timestamp de début de période, par défaut tous les timestamps seront compris\n",
    "        @param temps_fin : int = float('inf') => Le timestamp de fin de période, par défaut tous les timestamps seront compris\n",
    "\n",
    "    \"\"\"\n",
    "    \n",
    "    fig, axs = plt.subplots() #On prépare une fenêtre matplotlib\n",
    "    inters : list = list(portDict.keys()) #On récuppère la liste des adresses ip des interfaces.\n",
    "    if temps_debut == temps_fin:\n",
    "        temps_fin += 24*3600\n",
    "\n",
    "    \"\"\"\n",
    "    On suit l'algorithme suivant:\n",
    "\n",
    "    Si l'interface entrée en paramètre n'existe pas dans les clés de portDict\n",
    "        On crée une liste tmps qui contiendra les timestamps et une liste interfaces qui contiendra les id des interfaces pour chaque timestamp\n",
    "        Pour chaque interface dans portDict\n",
    "            Pour chaque timestamp dans portDict[interface]\n",
    "                Si le numéro de port se trouve dans le dictionnaire portDict[interface][timestamp]\n",
    "                    On ajoute le timestamp dans tmps\n",
    "                    On ajoute l'identifiant de l'interface dans interfaces\n",
    "        On génère un nuage de points. à partir des timestamps en X et des id d'interfaces en y (tmps, interfaces)\n",
    "    Sinon\n",
    "        On change la liste inters pour qu'elle ne contienne que l'adresse ip de l'interface sélectionnée\n",
    "        On créer une liste times qui contiendra les timestamps qui correspondent au port ouvert\n",
    "        Pour chaque timestamp dans portDict[interface]\n",
    "                Si le numéro de port se trouve dans le dictionnaire portDict[interface][timestamp]\n",
    "                    On ajoute le timestamp dans tmps\n",
    "        On génère un nuage de points. à partir des timestamps en X et en Y on génère une liste de 0 de la même taille que times\n",
    "    \"\"\"\n",
    "    \n",
    "\n",
    "    if interface not in portDict:\n",
    "        fig.suptitle(f\"Affichage de l'état du port {port} pour chaque interface\", fontsize=24)\n",
    "        tmps = []\n",
    "        interfaces = []\n",
    "        for inter in portDict:\n",
    "            for temps in portDict[inter]:\n",
    "                if temps_debut <= temps and temps <= temps_fin:\n",
    "                    if port in portDict[inter][temps]:\n",
    "                        tmps.append(temps)\n",
    "                        interfaces.append(inters.index(inter))\n",
    "        axs.scatter(tmps, interfaces)\n",
    "        \n",
    "        ticks(tmps)\n",
    "        plt.yticks(interfaces, [inters[i] for i in interfaces])\n",
    "\n",
    "\n",
    "    else:\n",
    "        fig.suptitle(f\"Affichage de l'état du port {port} sur l'interface {interface}\", fontsize=24)\n",
    "        inters = [interface]\n",
    "        times = []\n",
    "        for temps in portDict[interface]:\n",
    "            if temps_debut <= temps and temps <= temps_fin:\n",
    "                if port in portDict[interface][temps]:\n",
    "                    times.append(temps)\n",
    "        axs.scatter(times, [0 for _ in times])\n",
    "\n",
    "        ticks(times)\n",
    "        plt.yticks([0 for _ in times],[interface for _ in times])\n",
    "\n",
    "    \n",
    "    def interFormatter(id,_)->str:\n",
    "        \"\"\"!\n",
    "        @brief Cette fonction permet de formater l'affichage en y du graph. Celui-ci affichera les adresses ip des interfaces au lieu des nombres normaux.\n",
    "\n",
    "        Paramètres : \n",
    "            @param id => un nombre qui correspond à l'index de l'adresse ip dans la liste inters \n",
    "            @param _ => Un paramètre qui est requis par matplotlib mais non utilisé par la fonction\n",
    "        Retour de la fonction : \n",
    "            @return str => Une adresse ip correspondant à une interface ou une chaine vide\n",
    "\n",
    "        \"\"\"\n",
    "        if id in [float(i) for i in range(len(inters))]:\n",
    "            return inters[int(id)]\n",
    "        else:\n",
    "            return \"\"\n",
    "    \n",
    "\n",
    "    \n",
    "\n",
    "    axs.yaxis.set_major_formatter(interFormatter) # On demande à matplotlib d'utiliser la fonction interFormatter pour afficher des adresses ip d'interface au lieu des nombres par défaut\n",
    "    fig.autofmt_xdate() # On active la fonction de matplotlib permettant d'afficher en diagonale les dates pour faciliter la lecture \n"
   ]
  },
  {
   "cell_type": "markdown",
   "metadata": {
    "collapsed": false
   },
   "source": [
    "### Partie 1.2 : L'analyse de la connectivité"
   ]
  },
  {
   "cell_type": "markdown",
   "metadata": {
    "collapsed": false
   },
   "source": [
    "#### Récuppération des données représentant la connectivité du serveur "
   ]
  },
  {
   "cell_type": "code",
   "execution_count": 7,
   "metadata": {
    "collapsed": false
   },
   "outputs": [],
   "source": [
    "def recupperationDonnesConnectivite(chemin: str)-> Dict[int,np.ndarray]:\n",
    "    \"\"\"!\n",
    "    @brief la fonction permet de récupérer 2 fichier csv puis de les mettre sous forme d'un Dict[str, np.ndarray]\n",
    "\n",
    "    Paramètres : \n",
    "        @param chemin : str => chemin du fichier csv de la metrique 1\n",
    "    Retour de la fonction : \n",
    "        @return Dict[int,np.ndarray] => Dictionnaire représentant les données de connectivité\n",
    "\n",
    "    \"\"\"\n",
    "    \n",
    "    connectDict: Dict[int,List[int]] = {} # Dictionnaire qui représentera les données de connectivité\n",
    "    up : int #débit montant en Kilo octet par seconde\n",
    "    down : int # débit descendant en Kilo octet par seconde\n",
    "    tps : int # Le timestamp\n",
    "    pg : int # durée du ping en milisecondes\n",
    "    \n",
    "    # On ouvre le fichier csv contenant les données et on le lit\n",
    "    # Il est organisé comme suit : ping, download, upload, timestamp\n",
    "    with open(chemin, newline='') as csvfile:\n",
    "        datareader = csv.reader(csvfile, delimiter=',', quotechar='|')\n",
    "        for row in datareader:\n",
    "            \n",
    "            up = int(row[0])\n",
    "            down = int(row[1])\n",
    "            pg = int(row[2])\n",
    "            tps = int(row[3])\n",
    "            # On ajoute dans le dictionnaire le couple suivant\n",
    "            # clé = timestamp, valeur = List[upload, download, ping]\n",
    "            connectDict[tps] = [up, down, pg]  \n",
    "        \n",
    "    return connectDict # on retourne le dictionnaire"
   ]
  },
  {
   "cell_type": "markdown",
   "metadata": {
    "collapsed": false
   },
   "source": [
    "#### Fonctions générant le premier graphique représentant les statistiques de connectivité sur une période"
   ]
  },
  {
   "cell_type": "code",
   "execution_count": 8,
   "metadata": {
    "collapsed": false
   },
   "outputs": [],
   "source": [
    "def affichageStatistiqueConnectivite(connectdict: Dict[str,List[int]], mode=\"Tous\", temps_debut:int=-1, temps_fin:int = float('inf')):\n",
    "    \"\"\"!\n",
    "    @brief Cette fonction permet d'afficher un graphique montrant données de connectivité en fonction du temps\n",
    "\n",
    "    Paramètres : \n",
    "        @param connectdict : Dict[str,List[int]] => dictionnaire représentant les données de connectivité\n",
    "        @param mode = \"tous\" => Chaine de caractère qui permet de choisir quelles données afficher. (toutes, ping, upload, download)\n",
    "        @param temps_debut : int = -1 => Le timestamp de début de période, par défaut tous les timestamps seront compris\n",
    "        @param temps_fin : int = float('inf') => Le timestamp de fin de période, par défaut tous les timestamps seront compris\n",
    "\n",
    "    \"\"\"\n",
    "    \n",
    "    def graphique(axs : plt.Axes, x: List[int], y: List[int], titre: str):\n",
    "        axs.scatter(x,y)\n",
    "        axs.plot(x,y,'r:')\n",
    "        axs.set_title(titre)\n",
    "        axs.xaxis.set_major_formatter(dateFormatter) # On demande à matplotlib d'utiliser la fonction dateFormatter pour afficher des dates compréhensible au lieu des timestamps normaux\n",
    "\n",
    "    y : List[int] = []\n",
    "    x : List[int] = []\n",
    "\n",
    "    if temps_debut == temps_fin:\n",
    "        temps_fin += 24*3600\n",
    "\n",
    "    titres = [\"Upload en Ko/s en fonction du temps\",\"Download en Ko/s en fonction du temps\",\"Ping en ms en fonction du temps\"]\n",
    "    if mode != \"Tous\":\n",
    "        modes = [\"Upload\",\"Download\",\"Ping\"]\n",
    "        mode_id = modes.index(mode)\n",
    "        for i in connectdict:\n",
    "            if temps_debut <= i and i <= temps_fin:\n",
    "                y.append(connectdict[i][mode_id])\n",
    "                x.append(i)\n",
    "        \n",
    "        fig, axs = plt.subplots()   \n",
    "        graphique(axs, x, y, titres[mode_id])\n",
    "    else:\n",
    "        fig, axes = plt.subplots(nrows=1, ncols=3, figsize=(12,6))\n",
    "        \n",
    "        i : int = 0\n",
    "        for ax in axes:\n",
    "            y.clear()\n",
    "            x.clear()\n",
    "            for tmp in connectdict:\n",
    "                if temps_debut <= tmp and tmp <= temps_fin:\n",
    "                    y.append(connectdict[tmp][i])\n",
    "                    x.append(tmp)\n",
    "            graphique(ax, x, y, titres[i])\n",
    "            i += 1\n",
    "    fig.autofmt_xdate() # On active la fonction de matplotlib permettant d'afficher en diagonale les dates pour faciliter la lecture \n",
    "    "
   ]
  },
  {
   "cell_type": "markdown",
   "metadata": {},
   "source": [
    "### deuxieme graphique"
   ]
  },
  {
   "cell_type": "code",
   "execution_count": 9,
   "metadata": {},
   "outputs": [],
   "source": [
    "def affichageHistogrameMoyennes(connectdict: Dict[str,List[int]], temps_debut:int=-1, temps_fin:int = float('inf')):\n",
    "    \n",
    "    if temps_debut == temps_fin:\n",
    "        temps_fin += 24*3600\n",
    "\n",
    "    fig, axes = plt.subplots(nrows= 1, ncols=2, gridspec_kw={'width_ratios': [4, 1]})\n",
    "    \n",
    "    titres : List[str] = [\"Upload\",\"Download\",\"Ping\"]\n",
    "    y : Dict[int, int] = {0:0, 1:0, 2:0}\n",
    "    compteur : Dict[int, int] = {0:0, 1:0, 2:0}\n",
    "    \n",
    "    for tmp in connectdict:\n",
    "        if temps_debut <= tmp and tmp <= temps_fin:\n",
    "            for i in range(3):\n",
    "                y[i] += connectdict[tmp][i]\n",
    "                compteur[i] += 1\n",
    "    ry : List[float] = [y[i]/compteur[i] for i in range(2) if compteur[i] != 0]\n",
    "    if len(ry) > 0:\n",
    "        axes[0].bar(\n",
    "            range(len(ry)), \n",
    "            ry\n",
    "        )\n",
    "    else:\n",
    "        axes[0].bar(\n",
    "            [0,1],\n",
    "            [0,0]\n",
    "        )\n",
    "    axes[0].yaxis.grid(True)\n",
    "    plt.sca(axes[0])\n",
    "\n",
    "    plt.xticks(range(len(titres)-1), titres[:2])\n",
    "    plt.ylabel(\"kilo octet/s\")\n",
    "    \n",
    "    axes[0].set_title(\"Upload / Download\")\n",
    "    \n",
    "    for index, value in enumerate(ry):\n",
    "        axes[0].text(\n",
    "            index, \n",
    "            value//2,\n",
    "            f'{value:.5}', \n",
    "            ha=\"center\", \n",
    "            color=\"black\",\n",
    "            weight=\"bold\",\n",
    "            size=\"medium\"\n",
    "        )\n",
    "    \n",
    "    if compteur[2] != 0:\n",
    "        ry = y[2]/compteur[2]\n",
    "    else:\n",
    "        ry = sys.maxsize\n",
    "    axes[1].bar(0, ry)\n",
    "    axes[1].yaxis.grid(True)\n",
    "    plt.sca(axes[1])\n",
    "    plt.xticks([0], [\"Ping\"])\n",
    "    plt.ylabel(\"millisecondes\")\n",
    "    axes[1].set_title(\"Moyenne des pings\")\n",
    "    plt.subplots_adjust(wspace=0.4, top=.7)\n",
    "    \n",
    "    axes[1].text(\n",
    "            0, \n",
    "            ry//2,\n",
    "            f'{float(ry):.5}', \n",
    "            ha=\"center\", \n",
    "            color=\"black\",\n",
    "            weight=\"bold\",\n",
    "            size=\"medium\"\n",
    "        )\n",
    "        \n",
    "\n",
    "    p_deb = dateFormatter(list(connectDict.keys())[0])\n",
    "    p_fin = dateFormatter(list(connectDict.keys())[-1])\n",
    "    if temps_debut != -1 :\n",
    "        p_deb = dateFormatter(temps_debut)\n",
    "    if temps_fin != float('inf'):\n",
    "        p_fin = dateFormatter(temps_fin)\n",
    "    \n",
    "    plt.suptitle(f\"Moyennes des différentes mesures\\n Sur la période {p_deb} -> {p_fin}\", fontsize=18)\n",
    "    "
   ]
  },
  {
   "cell_type": "markdown",
   "metadata": {
    "collapsed": false
   },
   "source": [
    "## Partie 2 : L'outil de supervision"
   ]
  },
  {
   "cell_type": "markdown",
   "metadata": {
    "collapsed": false
   },
   "source": [
    "### Importations des données depuis les fichiers csv"
   ]
  },
  {
   "cell_type": "code",
   "execution_count": 10,
   "metadata": {
    "collapsed": false
   },
   "outputs": [],
   "source": [
    "chemin_port : str = \"./python/portData.csv\"\n",
    "chemin_connect : str = \"./python/connectivityData.csv\"\n",
    "portDict: Dict[str, Dict[int, Dict[str, str or None]]] = recupperationDonnesPorts(chemin_port)\n",
    "connectDict : Dict[int, List[int]] = recupperationDonnesConnectivite(chemin_connect)"
   ]
  },
  {
   "cell_type": "markdown",
   "metadata": {},
   "source": [
    "### Mise en place des fonctions permettant d'afficher des éléments dynamiques sur le notebook jupyter"
   ]
  },
  {
   "cell_type": "code",
   "execution_count": 11,
   "metadata": {
    "collapsed": false
   },
   "outputs": [
    {
     "data": {
      "application/vnd.jupyter.widget-view+json": {
       "model_id": "88fd672179064db299edfdf504f82645",
       "version_major": 2,
       "version_minor": 0
      },
      "text/plain": [
       "Button(button_style='success', description='Actualiser', style=ButtonStyle())"
      ]
     },
     "metadata": {},
     "output_type": "display_data"
    }
   ],
   "source": [
    "timeList = [secondsToTime(i) for i in range(24*3600)]\n",
    "\n",
    "def commonWidgets(dropDownDescription: str, dropDownOptions: List[str], buttonDescription: str) -> List[widgets.Widget]:\n",
    "    dropdown = widgets.Dropdown(\n",
    "        options=dropDownOptions,\n",
    "        value=dropDownOptions[0],\n",
    "        description=dropDownDescription,\n",
    "    )\n",
    "\n",
    "    deb = widgets.DatePicker(\n",
    "    )\n",
    "    deb_label = widgets.Label(\n",
    "        'Choisissez une date de début de période'\n",
    "    )\n",
    "    deb_picker = widgets.SelectionSlider(\n",
    "        options=timeList,\n",
    "        index=0,\n",
    "        value=timeList[0]\n",
    "    )\n",
    "    fin = widgets.DatePicker(\n",
    "    )\n",
    "    fin_label = widgets.Label(\n",
    "        'Choisissez une date de fin de période'\n",
    "    )\n",
    "    fin_picker = widgets.SelectionSlider(\n",
    "        options=timeList,\n",
    "        index=len(timeList)-1,\n",
    "        value=timeList[len(timeList)-1]\n",
    "    )\n",
    "    Hbox = widgets.HBox([\n",
    "        widgets.VBox([deb_label,deb, deb_picker]),\n",
    "        widgets.VBox([fin_label,fin, fin_picker]),\n",
    "    ])\n",
    "\n",
    "    button = widgets.Button(\n",
    "        description=buttonDescription,\n",
    "        button_style='info',\n",
    "        icon='check'\n",
    "    )\n",
    "\n",
    "    output = widgets.Output()\n",
    "\n",
    "    app_layout = widgets.Layout(display='flex',\n",
    "                    flex_flow='row nowrap',\n",
    "                    align_items='center',\n",
    "                    border='none',\n",
    "                    width='100%',\n",
    "                    margin='5px 5px 5px 5px')\n",
    "\n",
    "    return [dropdown, deb, deb_picker, fin, fin_picker, Hbox, button, output, app_layout]\n",
    "\n",
    "def notebookNombrePort(portDict: Dict[str, Dict[int, Dict[str, str or None]]])-> widgets.Box:\n",
    "    interfaces = list(portDict.keys())\n",
    "    interfaces.insert(0, \"Toutes\")\n",
    "    \n",
    "\n",
    "    dropdown, deb, deb_picker, fin, fin_picker, Hbox, button_nombrePort, output, app_layout = commonWidgets(\"Interface :\", interfaces, \"Afficher\")\n",
    "\n",
    "    def func_button_nombrePort(_):\n",
    "        with output:\n",
    "            clear_output()\n",
    "            if deb.value != None and fin.value != None:\n",
    "                print(deb_picker.value)\n",
    "                affichageNombrePort(portDict, dropdown.value, inverseDateFormatter(f'{deb.value} {deb_picker.value}'), inverseDateFormatter(f'{fin.value} {fin_picker.value}'))\n",
    "            else:\n",
    "                affichageNombrePort(portDict, dropdown.value)\n",
    "            plt.show()\n",
    "\n",
    "    button_nombrePort.on_click(func_button_nombrePort)\n",
    "\n",
    "\n",
    "    \n",
    "    Vbox = widgets.VBox([dropdown,Hbox, button_nombrePort, output])\n",
    "    \n",
    "\n",
    "    app = widgets.Box([Vbox], layout=app_layout)\n",
    "    return app\n",
    "\n",
    "def notebookActivitePort(portDict: Dict[str, Dict[int, Dict[str, str or None]]]) -> widgets.Box:\n",
    "    interfaces = list(portDict.keys())\n",
    "    interfaces.insert(0, \"Toutes\")\n",
    "\n",
    "    dropdown, deb, deb_picker, fin, fin_picker, Hbox2, button_etatPort, output, app_layout = commonWidgets(\"Interface :\", interfaces, \"Afficher\")\n",
    "\n",
    "    port = widgets.BoundedIntText(\n",
    "        value=22,\n",
    "        min=0,\n",
    "        max=65535,\n",
    "        step=1,\n",
    "        description='n°port:',\n",
    "    )\n",
    "\n",
    "    Hbox1 = widgets.HBox([dropdown, port])\n",
    "\n",
    "\n",
    "    def func_button_etatPort(_):\n",
    "        with output:\n",
    "            clear_output()\n",
    "            if deb.value != None and fin.value != None:\n",
    "                affichageActivitePort(portDict, str(port.value), dropdown.value, inverseDateFormatter(f'{deb.value} {deb_picker.value}'), inverseDateFormatter(f'{fin.value} {fin_picker.value}'))\n",
    "            else:\n",
    "                affichageActivitePort(portDict, str(port.value), dropdown.value)\n",
    "            plt.show()\n",
    "\n",
    "    button_etatPort.on_click(func_button_etatPort)\n",
    "\n",
    "    Vbox = widgets.VBox([Hbox1,Hbox2, button_etatPort, output])\n",
    "\n",
    "    app = widgets.Box([Vbox], layout=app_layout)\n",
    "    return app\n",
    "\n",
    "# faire notebookProportionProtocol\n",
    "\n",
    "def notebookStatistiquesConnectivite(connectDict: Dict[str,List[int]]) -> widgets.Box:\n",
    "    modes = [\"Tous\",\"Upload\",\"Download\",\"Ping\"]\n",
    "\n",
    "    dropdown, deb, deb_picker, fin, fin_picker, Hbox, button_statistiques, output, app_layout = commonWidgets(\"Mode :\", modes, \"Afficher\")\n",
    "\n",
    "    def func_button_statistiques(_):\n",
    "        with output:\n",
    "            clear_output()\n",
    "            if deb.value != None and fin.value != None:\n",
    "                print(deb_picker.value)\n",
    "                affichageStatistiqueConnectivite(connectDict, dropdown.value, inverseDateFormatter(f'{deb.value} {deb_picker.value}'), inverseDateFormatter(f'{fin.value} {fin_picker.value}'))\n",
    "            else:\n",
    "                affichageStatistiqueConnectivite(connectDict, dropdown.value)\n",
    "            plt.show()\n",
    "\n",
    "    button_statistiques.on_click(func_button_statistiques)\n",
    "\n",
    "\n",
    "    \n",
    "    Vbox = widgets.VBox([dropdown,Hbox, button_statistiques, output])\n",
    "    \n",
    "\n",
    "    app = widgets.Box([Vbox], layout=app_layout)\n",
    "    return app\n",
    "\n",
    "def notebookMoyennesConnectivite(connectDict: Dict[str,List[int]]) -> widgets.Box:\n",
    "    modes = [\"Tous\",\"Upload\",\"Download\",\"Ping\"]\n",
    "\n",
    "    _, deb, deb_picker, fin, fin_picker, Hbox, button_statistiques, output, app_layout = commonWidgets(\"Mode :\", modes, \"Afficher\")\n",
    "\n",
    "    def func_button_statistiques(_):\n",
    "        with output:\n",
    "            clear_output()\n",
    "            if deb.value != None and fin.value != None:\n",
    "                print(deb_picker.value)\n",
    "                affichageHistogrameMoyennes(connectDict, inverseDateFormatter(f'{deb.value} {deb_picker.value}'), inverseDateFormatter(f'{fin.value} {fin_picker.value}'))\n",
    "            else:\n",
    "                affichageHistogrameMoyennes(connectDict)\n",
    "            plt.show()\n",
    "\n",
    "    button_statistiques.on_click(func_button_statistiques)\n",
    "\n",
    "\n",
    "    \n",
    "    Vbox = widgets.VBox([Hbox, button_statistiques, output])\n",
    "    \n",
    "\n",
    "    app = widgets.Box([Vbox], layout=app_layout)\n",
    "    return app\n",
    "\n",
    "\n",
    "\n",
    "actualisation_port_button = widgets.Button(\n",
    "    description='Actualiser',\n",
    "    button_style=\"success\"\n",
    ")\n",
    "\n",
    "def actualiser_port(_):\n",
    "    global portDict\n",
    "    portDict = recupperationDonnesPorts(chemin_port)\n",
    "\n",
    "actualisation_port_button.on_click(actualiser_port)\n",
    "\n",
    "actualisation_port_button"
   ]
  },
  {
   "cell_type": "markdown",
   "metadata": {
    "collapsed": false
   },
   "source": [
    "## Supervision du nombre de port ouverts sur le serveur"
   ]
  },
  {
   "cell_type": "code",
   "execution_count": 12,
   "metadata": {
    "collapsed": false
   },
   "outputs": [
    {
     "data": {
      "application/vnd.jupyter.widget-view+json": {
       "model_id": "b656ff82d366453eb4f4ce7a08f1d859",
       "version_major": 2,
       "version_minor": 0
      },
      "text/plain": [
       "Box(children=(VBox(children=(Dropdown(description='Interface :', options=('Toutes', '0.0.0.0', '192.162.70.239…"
      ]
     },
     "metadata": {},
     "output_type": "display_data"
    }
   ],
   "source": [
    "display(notebookNombrePort(portDict))"
   ]
  },
  {
   "cell_type": "markdown",
   "metadata": {
    "collapsed": false
   },
   "source": [
    "## Supervision de l'état d'un port sur le serveur"
   ]
  },
  {
   "cell_type": "code",
   "execution_count": 13,
   "metadata": {
    "collapsed": false
   },
   "outputs": [
    {
     "data": {
      "application/vnd.jupyter.widget-view+json": {
       "model_id": "ad116b0912644ba488572bd8e50d0f6b",
       "version_major": 2,
       "version_minor": 0
      },
      "text/plain": [
       "Box(children=(VBox(children=(HBox(children=(Dropdown(description='Interface :', options=('Toutes', '0.0.0.0', …"
      ]
     },
     "metadata": {},
     "output_type": "display_data"
    }
   ],
   "source": [
    "display(notebookActivitePort(portDict))"
   ]
  },
  {
   "cell_type": "markdown",
   "metadata": {
    "collapsed": false
   },
   "source": [
    "## Supervision des statistiques de connectivité"
   ]
  },
  {
   "cell_type": "code",
   "execution_count": 14,
   "metadata": {},
   "outputs": [
    {
     "data": {
      "application/vnd.jupyter.widget-view+json": {
       "model_id": "580d3156f7b04dc0b36f3aac38e20d9d",
       "version_major": 2,
       "version_minor": 0
      },
      "text/plain": [
       "Box(children=(VBox(children=(Dropdown(description='Mode :', options=('Tous', 'Upload', 'Download', 'Ping'), va…"
      ]
     },
     "metadata": {},
     "output_type": "display_data"
    }
   ],
   "source": [
    "display(notebookStatistiquesConnectivite(connectDict))"
   ]
  },
  {
   "cell_type": "markdown",
   "metadata": {},
   "source": [
    "## Supervision des moyennes de connectivité"
   ]
  },
  {
   "cell_type": "code",
   "execution_count": 15,
   "metadata": {},
   "outputs": [
    {
     "data": {
      "application/vnd.jupyter.widget-view+json": {
       "model_id": "59485d3af8ae40d9a20fe4bf0e90a2b2",
       "version_major": 2,
       "version_minor": 0
      },
      "text/plain": [
       "Box(children=(VBox(children=(HBox(children=(VBox(children=(Label(value='Choisissez une date de début de périod…"
      ]
     },
     "metadata": {},
     "output_type": "display_data"
    }
   ],
   "source": [
    "display(notebookMoyennesConnectivite(connectDict))"
   ]
  }
 ],
 "metadata": {
  "interpreter": {
   "hash": "63fd5069d213b44bf678585dea6b12cceca9941eaf7f819626cde1f2670de90d"
  },
  "kernelspec": {
   "display_name": "Python 3 (system-wide)",
   "language": "python",
   "metadata": {
    "cocalc": {
     "description": "Python 3 programming language",
     "priority": 100,
     "url": "https://www.python.org/"
    }
   },
   "name": "python3",
   "resource_dir": "/ext/jupyter/kernels/python3"
  },
  "language_info": {
   "codemirror_mode": {
    "name": "ipython",
    "version": 3
   },
   "file_extension": ".py",
   "mimetype": "text/x-python",
   "name": "python",
   "nbconvert_exporter": "python",
   "pygments_lexer": "ipython3",
   "version": "3.9.2"
  }
 },
 "nbformat": 4,
 "nbformat_minor": 4
}
