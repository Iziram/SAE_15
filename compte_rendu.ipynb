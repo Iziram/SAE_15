{
 "cells": [
  {
   "cell_type": "markdown",
   "metadata": {},
   "source": [
    "# Compte rendu du projet SAE 15\n",
    "## par HARTMANN Matthias et BIENVENU Victor\n",
    "\n",
    "---"
   ]
  },
  {
<<<<<<< HEAD
   "cell_type": "markdown",
   "metadata": {},
   "source": []
=======
   "cell_type": "code",
   "execution_count": 10,
   "metadata": {},   "outputs": [],
   "source": [
    "def on_butt_clicked(_):\n",
    "    with out:\n",
    "        clear_output()\n",
    "        print(\"bite\")"
   ]
  },
  {
   "cell_type": "code",
   "execution_count": 11,
   "metadata": {},
   "outputs": [
    {
     "data": {
      "application/vnd.jupyter.widget-view+json": {
       "model_id": "65376d12e2d54d21ad39025a34cb3d26",
       "version_major": 2,
       "version_minor": 0
      },
      "text/plain": [
       "VBox(children=(Dropdown(options=('Interface 0', 'Interface 1', 'Interface 2'), value='Interface 0'), Button(de…"
      ]
     },
     "metadata": {},
     "output_type": "display_data"
    }
   ],
   "source": [
    "\"\"\"\n",
    "Test d'utilisation de jupyter avancée\n",
    "\"\"\"\n",
    "\n",
    "from IPython.display import display, Markdown, clear_output\n",
    "# widget packages\n",
    "import ipywidgets as widgets # defining some widgets\n",
    "\n",
    "\n",
    "#Sélection\n",
    "\n",
    "\n",
    "\n",
    "dropdown : widgets.Dropdown = widgets.Dropdown(\n",
    "    options=[\n",
    "        \"Interface 0\",\n",
    "        \"Interface 1\",\n",
    "        \"Interface 2\"\n",
    "    ]\n",
    ")\n",
    "\n",
    "button = widgets.Button(\n",
    "    description =  \"Valider\"\n",
    ")\n",
    "\n",
    "out = widgets.Output()\n",
    "\n",
    "button.on_click(on_butt_clicked)\n",
    "widgets.VBox((dropdown,button, out,))"
   ]
>>>>>>> Matthias
  }
 ],
 "metadata": {
  "interpreter": {
   "hash": "63fd5069d213b44bf678585dea6b12cceca9941eaf7f819626cde1f2670de90d"
  },
  "kernelspec": {
   "display_name": "Python 3.9.2 64-bit",
   "language": "python",
   "name": "python3"
  },
  "language_info": {
   "codemirror_mode": {
    "name": "ipython",
    "version": 3
   },
   "file_extension": ".py",
   "mimetype": "text/x-python",
   "name": "python",
   "nbconvert_exporter": "python",
   "pygments_lexer": "ipython3",
   "version": "3.8.1"
  },
  "orig_nbformat": 4
 },
 "nbformat": 4,
 "nbformat_minor": 2
}
