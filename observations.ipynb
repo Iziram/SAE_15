{
 "cells": [
  {
   "cell_type": "markdown",
   "metadata": {
    "collapsed": false
   },
   "source": [
    "# Compte rendu Du Projet SAE 15\n",
    "### Par **HARTMANN** Matthias et **BIENVENU** Victor\n",
    "Dans le cadre du Projet de SAE 15, nous avons dû produire un outil d'analyse de l'activité d'un serveur.\n",
    "Vous retrouverez cet outil dans ce notebook python.\n",
    "Dans un premier temps vous verrez l'ensembles des fonctions pythons qui ont été écrites pour cet outil et elles vous seront commentées.\n",
    "Ensuite vous pourrez accédez à l'outil qui vous permettra de visualiser de plusieurs façons les activités suivantes :\n",
    "- Le nombre et les ports ouverts sur le serveur\n",
    "- La connectivité du serveur par rapport à un autre serveur.\n"
   ]
  },
  {
   "cell_type": "markdown",
   "metadata": {
    "collapsed": false
   },
   "source": [
    "## Partie 1 : Les fonctions pythons"
   ]
  },
  {
   "cell_type": "markdown",
   "metadata": {
    "collapsed": false
   },
   "source": [
    "### Importation des modules permettant l'exploitations des fichiers CSV et la génération de graphiques"
   ]
  },
  {
   "cell_type": "code",
   "execution_count": 1,
   "metadata": {
    "collapsed": false
   },
   "outputs": [],
   "source": [
    "import csv\n",
    "from typing import Dict, List\n",
    "import matplotlib.pyplot as plt\n",
    "from dateutil import parser\n",
    "from datetime import datetime\n",
    "import sys\n",
    "import ipywidgets as widgets\n",
    "from IPython.display import display, clear_output\n"
   ]
  },
  {
   "cell_type": "markdown",
   "metadata": {
    "collapsed": false
   },
   "source": [
    "### Fonctions qui permettent de gérer les dates et les timestamps (Utilisé par les deux métriques) "
   ]
  },
  {
   "cell_type": "code",
   "execution_count": 2,
   "metadata": {
    "collapsed": false
   },
   "outputs": [],
   "source": [
    "def dateFormatter(epoch: int, _=None) -> str:\n",
    "    \"\"\"!\n",
    "    @brief Cette fonction permet de convertir un timestamp epoch en une date compréhensible.\n",
    "\n",
    "    Paramètres : \n",
    "        @param epoch : int => timestamp dans le format epoch\n",
    "        @param _ = None => Un paramètre qui est requis par matplotlib mais non utilisé par la fonction\n",
    "    Retour de la fonction : \n",
    "        @return str => La date compréhensible\n",
    "\n",
    "    \"\"\"\n",
    "    if epoch > 0:\n",
    "        return str(datetime.fromtimestamp(epoch))\n",
    "    return \"\"\n",
    "\n",
    "\n",
    "def inverseDateFormatter(date: str) -> str:\n",
    "    \"\"\"!\n",
    "    @brief Cette fonction permet de convertir une date au format \"yyyy-mm-jj\" en un timestamp\n",
    "\n",
    "    Paramètres : \n",
    "        @param date : str => La date \n",
    "    Retour de la fonction : \n",
    "        @return str => le timestamp\n",
    "\n",
    "    \"\"\"\n",
    "    return int(parser.parse(date).timestamp())\n",
    "\n",
    "\n",
    "def secondsToTime(s: int) -> str:\n",
    "    \"\"\"!\n",
    "    @brief Cette fonction permet de convertir un temps en seconde en un horaire de la forme \"h:m:s\"\n",
    "\n",
    "    Paramètres : \n",
    "        @param s : int => le temps en seconde à convertir\n",
    "    Retour de la fonction : \n",
    "        @return str => l'horaire\n",
    "\n",
    "    \"\"\"\n",
    "    hour : int = s // 3600\n",
    "    s : int = s % 3600\n",
    "    minute: int  = s // 60\n",
    "    s = s % 60\n",
    "    return f'{hour}:{minute}:{s}'\n",
    "\n",
    "\n",
    "def xlabels(tmps: List[int]) -> List[str]:\n",
    "    \"\"\"!\n",
    "    @brief Cette fonction permet de transformer une liste de timestamps en une liste de date compréhensible et sans doublon\n",
    "\n",
    "    Paramètres : \n",
    "        @param tmps : List[int] => Liste de timestamps\n",
    "    Retour de la fonction : \n",
    "        @return List[str] => Liste de dates\n",
    "\n",
    "    \"\"\"\n",
    "    l : List[str] = []\n",
    "    for i in list(tmps):\n",
    "        if i not in l:\n",
    "            l.append(dateFormatter(i))\n",
    "        else:\n",
    "            l.append(\"\")\n",
    "    return l\n",
    "\n",
    "\n",
    "def ticks(tickList: List[int]):\n",
    "    \"\"\"!\n",
    "    @brief Cette fonction permet de réduire une liste de timestamps à 5 timestamps significatifs et de les afficher sur le graphique courant\n",
    "\n",
    "    Paramètres : \n",
    "        @param tickList : list => Liste de timestamps\n",
    "\n",
    "    \"\"\"\n",
    "    if len(tickList) > 4:\n",
    "        x: List[int] = [\n",
    "            tickList[0],\n",
    "            tickList[int(len(tickList) * 1/4)],\n",
    "            tickList[int(len(tickList) * 2/4)],\n",
    "            tickList[int(len(tickList) * 3/4)],\n",
    "            tickList[-1]\n",
    "        ]\n",
    "        plt.xticks(x, xlabels(x))\n",
    "    else:\n",
    "        plt.xticks(tickList, xlabels(tickList))\n"
   ]
  },
  {
   "cell_type": "markdown",
   "metadata": {
    "collapsed": false
   },
   "source": [
    "### Partie 1.1 : L'analyse des ports"
   ]
  },
  {
   "cell_type": "markdown",
   "metadata": {
    "collapsed": false
   },
   "source": [
    "#### Fonctions permettant de récuppérer le protocol associé à un numéro de port."
   ]
  },
  {
   "cell_type": "code",
   "execution_count": 3,
   "metadata": {
    "collapsed": false
   },
   "outputs": [],
   "source": [
    "def _getDico():\n",
    "    \"\"\"!\n",
    "    @brief Cette fonction permet de créer un dictionnaire à partir d'un tableau csv. Le tableau représente les numéros de ports correspondant à des protocols connus\n",
    "    \"\"\"\n",
    "    with open('./python/portsList.csv', 'r') as csv_file:\n",
    "        csv_reader = csv.reader(csv_file)\n",
    "        dico: Dict[int, str] = {}  # création du dictionnaire\n",
    "        for row in csv_reader:\n",
    "            try:\n",
    "                # Si la ligne du csv possède un port correct alors on le met dans le dictionnaire en tant que clé et son protocol en tant que valeur\n",
    "                dico[int(row[1])] = row[0]\n",
    "            except:\n",
    "                pass\n",
    "    return dico\n",
    "\n",
    "\n",
    "# On sauvegarde le dictionnaire pour ne pas le regénérer à chaque appel de fonction.\n",
    "_listport = _getDico()\n",
    "\n",
    "\n",
    "def converter(port: str) -> str:\n",
    "    \"\"\"!\n",
    "    @brief Cette fonction permet de récuppérer un protocol à partir d'un numéro de port.\n",
    "\n",
    "    Paramètres : \n",
    "        @param port : str => Le numéro de port dont on souhaite connaitre le protocol\n",
    "    Retour de la fonction : \n",
    "        @return str => Le protocol associé au numéro de port ou \"Inconnu\" si aucun n'a été trouvé\n",
    "\n",
    "    \"\"\"\n",
    "    try:\n",
    "        protocol: str = _listport.get(int(port), \"Inconnu\")\n",
    "        return protocol if protocol != \"\" else \"Inconnu\"\n",
    "    except:\n",
    "        return \"Inconnu\"\n"
   ]
  },
  {
   "cell_type": "markdown",
   "metadata": {
    "collapsed": false
   },
   "source": [
    "#### Récuppération des donnés représentant l'activité des ports du serveur."
   ]
  },
  {
   "cell_type": "code",
   "execution_count": 4,
   "metadata": {
    "collapsed": false
   },
   "outputs": [],
   "source": [
    "def recupperationDonnesPorts(chemin: str) -> Dict[str, Dict[int, Dict[str, str]]]:\n",
    "    \"\"\"!\n",
    "    @brief Cette fonction permet de récupperer les données relatives à l'activité des ports et de les convertir en un Dictionnaire utilisable par les fonctions suivantes.\n",
    "\n",
    "    Paramètres : \n",
    "        @param chemin : str => Le chemin menant au fichier csv où se trouve les données d'activité des ports.\n",
    "    Retour de la fonction : \n",
    "        @return Dict[str, Dict[int, Dict[str, str]]] => Le dictionnaire représentant les données des ports. \n",
    "\n",
    "    \"\"\"\n",
    "\n",
    "    dico  : Dict[str, Dict[int, Dict[str, str]]] = {}\n",
    "    with open(chemin, newline='') as csvfile:\n",
    "        datareader = csv.reader(csvfile, delimiter=',', quotechar='|')\n",
    "        for row in datareader:  # pour chaque ligne du fichier csv\n",
    "            \"\"\"\n",
    "            Les données du csv sont organisées comme suit :\n",
    "            @ip,port,protocol,timestamp\n",
    "            \"\"\"\n",
    "\n",
    "            # On recuppère l'adresse ip liée à l'interface\n",
    "            interface: str = row[0]\n",
    "            temps: int = int(row[3])  # On récuppère le timestamp\n",
    "            port: str = row[1]  # On récuppère le port\n",
    "            # Et on récuppère le protocol, celui-ci étant un numéro de port nous devons le convertir grace à la fonction converter(vue plus haut)\n",
    "            protocol: str = converter(row[2])\n",
    "\n",
    "            \"\"\"\n",
    "            Nous suivons ensuite l'algorithme suivant:\n",
    "\n",
    "            Si l'adresse ip se trouve déjà dans les clés du dictionnaire principal\n",
    "                Si le timestamp se trouve déjà dans les clés du dictionnaire associé à l'interface\n",
    "                    On ajoute un nouveau couple clé valeur (port, protocol) dans le dictionnaire associé au timestamp\n",
    "                Sinon\n",
    "                    On crée un nouveau dictionnaire ayant déjà un couple clé valeur (port, protocol) que l'on assigne comme étant le dictionnaire associé au timestamp\n",
    "            Sinon\n",
    "                On crée un nouveau dictionnaire ayant pour clé le timestamp et pour valeur un autre dictionnaire avec le couple (port, protocol) que l'on assigne à l'interface \n",
    "                courante dans le dictionnaire principal.\n",
    "            \"\"\"\n",
    "\n",
    "            if interface in dico:\n",
    "                if temps in dico[interface]:\n",
    "                    dico[interface][temps][port] = protocol\n",
    "                else:\n",
    "                    dico[interface][temps] = {port: protocol}\n",
    "            else:\n",
    "                dico[interface] = {\n",
    "                    temps: {port: protocol}\n",
    "                }\n",
    "\n",
    "    return dico  # On renvoie le dictionnaire principal.\n"
   ]
  },
  {
   "cell_type": "markdown",
   "metadata": {
    "collapsed": false
   },
   "source": [
    "#### Fonction générant le premier graphique représentant le nombre de port ouvert sur le serveur (ou sur une interface particulière) en fonction du temps"
   ]
  },
  {
   "cell_type": "code",
   "execution_count": 5,
   "metadata": {
    "collapsed": false
   },
   "outputs": [],
   "source": [
    "def affichageNombrePort(portDict: Dict[str, Dict[int, Dict[str, str]]], interface=\"toutes\", temps_debut: int = -1, temps_fin: int = float('inf')):\n",
    "    \"\"\"!\n",
    "    @brief Cette fonction permet de générer un histogram représenant le nombre de port ouverts sur le serveur ou sur une interface en fonction d'une période \n",
    "\n",
    "    Paramètres : \n",
    "        @param portDict : Dict[str, Dict[int, Dict[str, str]]] => Le dictionnaire représentant les données d'activité des ports\n",
    "        @param interface = \"toutes\" => L'adresse ip de l'interface à observer, par défaut toutes les interfaces seront prises en compte.\n",
    "        @param temps_debut : int = -1 => Le timestamp de début de période, par défaut tous les timestamps seront compris\n",
    "        @param temps_fin : int = float('inf') => Le timestamp de fin de période, par défaut tous les timestamps seront compris\n",
    "\n",
    "    \"\"\"\n",
    "    times : Dict[int, int] = {}  # On prépare un dictionnaire qui nous permettra d'avoir en clé les timestamps et en valeurs le nombre de ports qui était ouvert à cet instant.\n",
    "    fig, axs = plt.subplots()  # On prépare une fenêtre matplotlib\n",
    "\n",
    "    \"\"\"\n",
    "    On suit l'algorithme suivant:\n",
    "\n",
    "    Si l'interface entrée en paramètre n'existe pas dans les clés de portDict\n",
    "        Pour chaque interface\n",
    "            Pour chaque timestamp dans les clés de portDict[interface]\n",
    "                Si le timestamp se trouve déjà dans les clés de times\n",
    "                    On augmente le total se trouvant dans times[temps] par le nombre de ports se trouvant dans le dictionnaire associé au timestamp\n",
    "                Sinon\n",
    "                    On place le nombre de ports se trouvant dans le dictionnaire associé au timestamp dans times[temps]\n",
    "    Sinon\n",
    "        Pour chaque timestamp dans les clés de portDict[interface]\n",
    "            Si le timestamp se trouve déjà dans les clés de times\n",
    "                On augmente le total se trouvant dans times[temps] par le nombre de ports se trouvant dans le dictionnaire associé au timestamp\n",
    "            Sinon\n",
    "                On place le nombre de ports se trouvant dans le dictionnaire associé au timestamp dans times[temps]\n",
    "    \"\"\"\n",
    "\n",
    "    if interface not in portDict:\n",
    "        fig.suptitle(\n",
    "            \"Nombre de port ouverts par rapport au temps (toutes interfaces)\", fontsize=24)\n",
    "        for inter in portDict:\n",
    "            for temps in portDict[inter]:\n",
    "                if temps_debut <= temps and temps <= temps_fin:\n",
    "                    if temps in times:\n",
    "                        times[temps] += len(portDict[inter][temps])\n",
    "                    else:\n",
    "                        times[temps] = len(portDict[inter][temps])\n",
    "    else:\n",
    "        fig.suptitle(\n",
    "            f\"Nombre de port ouverts par rapport au temps (Interface : {interface})\", fontsize=24)\n",
    "        for temps in portDict[interface]:\n",
    "            if temps_debut < temps and temps < temps_fin:\n",
    "                if temps in times:\n",
    "                    times[temps] += len(portDict[interface][temps])\n",
    "                else:\n",
    "                    times[temps] = len(portDict[interface][temps])\n",
    "\n",
    "    # On crée un histogram ayant pour X les timestamps (times.keys()) et pour y les totaux (times.values)\n",
    "    axs.bar(times.keys(), times.values(), width=4)\n",
    "    # On demande à matplotlib d'utiliser la fonction dateFormatter pour afficher des dates compréhensible au lieu des timestamps normaux\n",
    "    axs.xaxis.set_major_formatter(dateFormatter)\n",
    "    fig.autofmt_xdate()  # On active la fonction de matplotlib permettant d'afficher en diagonale les dates pour faciliter la lecture\n"
   ]
  },
  {
   "cell_type": "markdown",
   "metadata": {
    "collapsed": false
   },
   "source": [
    "#### Fonction générant le deuxième Graphique représentant l'état d'un numéro de port sur le serveur(ou bien sur une interface particulière) en fonction d'une période "
   ]
  },
  {
   "cell_type": "code",
   "execution_count": 6,
   "metadata": {
    "collapsed": false
   },
   "outputs": [],
   "source": [
    "def affichageActivitePort(portDict: Dict[str, Dict[int, Dict[str, str or None]]], port: str, interface: str = \"toutes\", temps_debut: int = -1, temps_fin: int = float('inf')):\n",
    "    \"\"\"!\n",
    "    @brief Cette fonction permet d'afficher un graphique montrant l'état d'un port\n",
    "\n",
    "    Paramètres : \n",
    "        @param portDict : Dict[str,Dict[int,Dict[str,strorNone]]] => Le dictionnaire représentant les données d'activité des ports\n",
    "        @param port : str => le numéro du port à observer\n",
    "        @param interface : str = \"toutes\" => l'adresse ip de l'interface sur laquelle observer le port, par défaut toutes les interfaces seront affichées.\n",
    "        @param temps_debut : int = -1 => Le timestamp de début de période, par défaut tous les timestamps seront compris\n",
    "        @param temps_fin : int = float('inf') => Le timestamp de fin de période, par défaut tous les timestamps seront compris\n",
    "\n",
    "    \"\"\"\n",
    "\n",
    "    fig, axs = plt.subplots()  # On prépare une fenêtre matplotlib\n",
    "    \n",
    "    if temps_debut == temps_fin:\n",
    "        temps_fin += 24*3600\n",
    "\n",
    "    \n",
    "    # On récuppère la liste des adresses ip des interfaces.\n",
    "    inters: List[str] = list(portDict.keys())\n",
    "\n",
    "    \"\"\"\n",
    "    On suit l'algorithme suivant:\n",
    "\n",
    "    Si l'interface entrée en paramètre n'existe pas dans les clés de portDict\n",
    "        On crée une liste tmps qui contiendra les timestamps et une liste interfaces qui contiendra les id des interfaces pour chaque timestamp\n",
    "        Pour chaque interface dans portDict\n",
    "            Pour chaque timestamp dans portDict[interface]\n",
    "                Si le numéro de port se trouve dans le dictionnaire portDict[interface][timestamp]\n",
    "                    On ajoute le timestamp dans tmps\n",
    "                    On ajoute l'identifiant de l'interface dans interfaces\n",
    "        On génère un nuage de points. à partir des timestamps en X et des id d'interfaces en y (tmps, interfaces)\n",
    "    Sinon\n",
    "        On change la liste inters pour qu'elle ne contienne que l'adresse ip de l'interface sélectionnée\n",
    "        On créer une liste times qui contiendra les timestamps qui correspondent au port ouvert\n",
    "        Pour chaque timestamp dans portDict[interface]\n",
    "                Si le numéro de port se trouve dans le dictionnaire portDict[interface][timestamp]\n",
    "                    On ajoute le timestamp dans tmps\n",
    "        On génère un nuage de points. à partir des timestamps en X et en Y on génère une liste de 0 de la même taille que times\n",
    "    \"\"\"\n",
    "    if interface not in portDict:\n",
    "        fig.suptitle(\n",
    "            f\"Affichage de l'état du port {port} pour chaque interface\", fontsize=24)\n",
    "        tmps : List[int] = []\n",
    "        interfaces : List[int]= []\n",
    "        for inter in portDict:\n",
    "            for temps in portDict[inter]:\n",
    "                if temps_debut <= temps and temps <= temps_fin:\n",
    "                    if port in portDict[inter][temps]:\n",
    "                        tmps.append(temps)\n",
    "                        interfaces.append(inters.index(inter))\n",
    "        axs.scatter(tmps, interfaces)\n",
    "\n",
    "        ticks(tmps)\n",
    "        plt.yticks(interfaces, [inters[i] for i in interfaces])\n",
    "\n",
    "    else:\n",
    "        fig.suptitle(\n",
    "            f\"Affichage de l'état du port {port} sur l'interface {interface}\", fontsize=24)\n",
    "        inters = [interface]\n",
    "        times : List[int]= []\n",
    "        for temps in portDict[interface]:\n",
    "            if temps_debut <= temps and temps <= temps_fin:\n",
    "                if port in portDict[interface][temps]:\n",
    "                    times.append(temps)\n",
    "        axs.scatter(times, [0 for _ in times])\n",
    "\n",
    "        ticks(times)\n",
    "        plt.yticks([0 for _ in times], [interface for _ in times])\n",
    "\n",
    "    def interFormatter(id, _) -> str:\n",
    "        \"\"\"!\n",
    "        @brief Cette fonction permet de formater l'affichage en y du graph. Celui-ci affichera les adresses ip des interfaces au lieu des nombres normaux.\n",
    "\n",
    "        Paramètres : \n",
    "            @param id => un nombre qui correspond à l'index de l'adresse ip dans la liste inters \n",
    "            @param _ => Un paramètre qui est requis par matplotlib mais non utilisé par la fonction\n",
    "        Retour de la fonction : \n",
    "            @return str => Une adresse ip correspondant à une interface ou une chaine vide\n",
    "\n",
    "        \"\"\"\n",
    "        if id in [float(i) for i in range(len(inters))]:\n",
    "            return inters[int(id)]\n",
    "        else:\n",
    "            return \"\"\n",
    "\n",
    "    # On demande à matplotlib d'utiliser la fonction interFormatter pour afficher des adresses ip d'interface au lieu des nombres par défaut\n",
    "    axs.yaxis.set_major_formatter(interFormatter)\n",
    "    fig.autofmt_xdate()  # On active la fonction de matplotlib permettant d'afficher en diagonale les dates pour faciliter la lecture\n"
   ]
  },
  {
   "cell_type": "markdown",
   "metadata": {},
   "source": [
    "#### Fonction générant le troisème Graphique représentant la proportion des protocols utilisés sur le serveur(ou bien sur une interface particulière) en fonction d'une période "
   ]
  },
  {
   "cell_type": "code",
   "execution_count": 7,
   "metadata": {},
   "outputs": [],
   "source": [
    "def affichageProportionProtocols(portDict: Dict[str, Dict[int, Dict[str, str]]], interface: str = \"toutes\", temps_debut: int = -1, temps_fin: int = float('inf')):\n",
    "    \"\"\"!\n",
    "    @brief Cette fonction permet de générer un diagramme circulaire représentant la proportion des protocols utilisés sur le serveur\n",
    "\n",
    "    Paramètres : \n",
    "        @param portDict : Dict[str,Dict[int,Dict[str,str]]] => Le dictionnaire représentant les données d'activité des ports\n",
    "        @param interface : str = \"toutes\" => l'adresse ip de l'interface sur laquelle observer le port, par défaut toutes les interfaces seront affichées.\n",
    "        @param temps_debut : int = -1 => Le timestamp de début de période, par défaut tous les timestamps seront compris\n",
    "        @param temps_fin : int = float('inf') => Le timestamp de fin de période, par défaut tous les timestamps seront compris\n",
    "\n",
    "    \"\"\"\n",
    "\n",
    "    proto: Dict[str, int] = {}\n",
    "\n",
    "    if temps_debut == temps_fin:\n",
    "        temps_fin += 24*3600\n",
    "\n",
    "    # On récuppère le nombre d'occurences de chaque protocol en fonction de l'interface sélectionnée et de la période sélectionnée\n",
    "    if interface not in portDict:\n",
    "        plt.suptitle(\n",
    "            \"Proportion des protocols utilisés sur toutes les interfaces\")\n",
    "        for inter in portDict:\n",
    "            for temps in portDict[inter]:\n",
    "                if temps_debut <= temps and temps <= temps_fin:\n",
    "                    for port in portDict[inter][temps]:\n",
    "                        protocol: str = portDict[inter][temps][port]\n",
    "                        if protocol in proto:\n",
    "                            proto[protocol] += 1\n",
    "                        else:\n",
    "                            proto[protocol] = 1\n",
    "    else:\n",
    "        plt.suptitle(\n",
    "            f\"Proportion des protocols utilisés sur l'interface {interface}\")\n",
    "        for temps in portDict[interface]:\n",
    "            if temps_debut <= temps and temps <= temps_fin:\n",
    "                for port in portDict[interface][temps]:\n",
    "                    protocol: str = portDict[interface][temps][port]\n",
    "                    if protocol in proto:\n",
    "                        proto[protocol] += 1\n",
    "                    else:\n",
    "                        proto[protocol] = 1\n",
    "\n",
    "    # On transfome notre dictionnaire en deux listes qui seront plus facile à utiliser\n",
    "    values : List[int] = list(proto.values())\n",
    "    labels : List[str] = list(proto.keys())\n",
    "\n",
    "    # On trie les listes de façons à avoir les proportions de protocols dans l'ordre décroissant\n",
    "    labels = sorted(\n",
    "        labels, key=lambda x: values[labels.index(x)], reverse=True)\n",
    "    values.sort(reverse=True)\n",
    "\n",
    "    # Petite fonction qui servira à formatter l'affichage des pourcentages\n",
    "    def autopct(x): return f'{x:.2f}%'\n",
    "\n",
    "    # Afin d'éviter une surcharge du graphique, nous limitons l'affichage à 5 valeurs pertinantes ou moins.\n",
    "    if len(values) > 5:\n",
    "        # On récuppère les 4 protocols les plus utilisés et on ajoute un nouveau label \"Autres\"\n",
    "        x : List[str] = labels[:5]\n",
    "        x.append(\"Autres\")\n",
    "        # On récuppère les 4 valeurs les plus grandes et on ajoute une nouvelle valeur qui est la somme de toutes les autres valeurs\n",
    "        y : List[int] = values[:5]\n",
    "        y.append(sum(values[5:]))\n",
    "        # On construit le diagramme\n",
    "        plt.pie(\n",
    "            y,\n",
    "            labels=x,\n",
    "            startangle=0,\n",
    "            labeldistance=1.25,\n",
    "            autopct=autopct\n",
    "        )\n",
    "    else:\n",
    "        # On construit le diagramme directement grâce aux valeurs des listes.\n",
    "        plt.pie(\n",
    "            values,\n",
    "            labels=labels,\n",
    "            startangle=0,\n",
    "            labeldistance=1.25,\n",
    "            autopct=autopct\n",
    "        )\n"
   ]
  },
  {
   "cell_type": "markdown",
   "metadata": {
    "collapsed": false
   },
   "source": [
    "### Partie 1.2 : L'analyse de la connectivité"
   ]
  },
  {
   "cell_type": "markdown",
   "metadata": {
    "collapsed": false
   },
   "source": [
    "#### Récuppération des données représentant la connectivité du serveur "
   ]
  },
  {
   "cell_type": "code",
   "execution_count": 8,
   "metadata": {
    "collapsed": false
   },
   "outputs": [],
   "source": [
    "def recupperationDonnesConnectivite(chemin: str) -> Dict[int, List[float]]:\n",
    "    \"\"\"!\n",
    "    @brief la fonction permet de récupérer 2 fichier csv puis de les mettre sous forme d'un Dict[int, List[float]]\n",
    "\n",
    "    Paramètres : \n",
    "        @param chemin : str => chemin du fichier csv de la metrique 1\n",
    "    Retour de la fonction : \n",
    "        @return Dict[int, List[float]] => Dictionnaire représentant les données de connectivité\n",
    "\n",
    "    \"\"\"\n",
    "\n",
    "    # Dictionnaire qui représentera les données de connectivité\n",
    "    connectDict: Dict[int, List[int]] = {}\n",
    "    up: int  # débit montant en Kilo octet par seconde\n",
    "    down: int  # débit descendant en Kilo octet par seconde\n",
    "    tps: int  # Le timestamp\n",
    "    pg: int  # durée du ping en milisecondes\n",
    "\n",
    "    # On ouvre le fichier csv contenant les données et on le lit\n",
    "    # Il est organisé comme suit : ping, download, upload, timestamp\n",
    "    with open(chemin, newline='') as csvfile:\n",
    "        datareader = csv.reader(csvfile, delimiter=',', quotechar='|')\n",
    "        for row in datareader:\n",
    "            up : float = float(row[2])\n",
    "            down : float = float(row[1])\n",
    "            pg : float = float(row[0])\n",
    "            tps : int= int(row[3])\n",
    "            # On ajoute dans le dictionnaire le couple suivant\n",
    "            # clé = timestamp, valeur = List[ping,download,upload]\n",
    "            connectDict[tps] = [pg,down,up]\n",
    "\n",
    "    return connectDict  # on retourne le dictionnaire\n"
   ]
  },
  {
   "cell_type": "markdown",
   "metadata": {
    "collapsed": false
   },
   "source": [
    "#### Fonctions générant le premier graphique représentant les statistiques de connectivité sur une période"
   ]
  },
  {
   "cell_type": "code",
   "execution_count": 9,
   "metadata": {
    "collapsed": false
   },
   "outputs": [],
   "source": [
    "def affichageStatistiqueConnectivite(connectDict: Dict[str, List[int]], mode=\"Tous\", temps_debut: int = -1, temps_fin: int = float('inf')):\n",
    "    \"\"\"!\n",
    "    @brief Cette fonction permet d'afficher un graphique montrant données de connectivité en fonction du temps\n",
    "\n",
    "    Paramètres : \n",
    "        @param connectDict : Dict[str,List[int]] => dictionnaire représentant les données de connectivité\n",
    "        @param mode = \"tous\" => Chaine de caractère qui permet de choisir quelles données afficher. (toutes, ping, upload, download)\n",
    "        @param temps_debut : int = -1 => Le timestamp de début de période, par défaut tous les timestamps seront compris\n",
    "        @param temps_fin : int = float('inf') => Le timestamp de fin de période, par défaut tous les timestamps seront compris\n",
    "\n",
    "    \"\"\"\n",
    "\n",
    "    def graphique(axs: plt.Axes, x: List[int], y: List[int], titre: str):\n",
    "        #On place les points\n",
    "        axs.scatter(x, y)\n",
    "        #On trace une ligne rouge en poitiée entre les points \n",
    "        axs.plot(x, y, 'r:')\n",
    "        #On met un titre au graphique\n",
    "        axs.set_title(titre)\n",
    "        # On demande à matplotlib d'utiliser la fonction dateFormatter pour afficher des dates compréhensible au lieu des timestamps normaux\n",
    "        axs.xaxis.set_major_formatter(dateFormatter)\n",
    "\n",
    "    y: List[int] = []\n",
    "    x: List[int] = []\n",
    "\n",
    "    if temps_debut == temps_fin:\n",
    "        temps_fin += 24*3600\n",
    "\n",
    "    titres : List[str] = [\n",
    "        \"Ping en ms en fonction du temps\",\n",
    "        \"Download en Ko/s en fonction du temps\", \n",
    "        \"Upload en Ko/s en fonction du temps\"\n",
    "    ]\n",
    "\n",
    "    #On vérifie si on doit afficher toutes les mesures ou seulement une en particulier.\n",
    "    if mode != \"Tous\":\n",
    "        #Dans le cas ou c'est une en particulier : \n",
    "\n",
    "        modes : List[str] = [\"Ping\", \"Download\", \"Upload\"]\n",
    "        mode_id : int = modes.index(mode)\n",
    "        #On récupère l'index de la mesure ce qui nous permettra d'accèder aux données la concernant dans le dictionnaire connectDict\n",
    "        for i in connectDict:\n",
    "            #On prend en compte la période demandée\n",
    "            if temps_debut <= i and i <= temps_fin:\n",
    "                #On ajoute dans la liste y les valeurs et en x le timestamp\n",
    "                y.append(connectDict[i][mode_id])\n",
    "                x.append(i)\n",
    "\n",
    "        #On prépare l'affichage de matplotlib\n",
    "        fig, axs = plt.subplots()\n",
    "\n",
    "        #On génère le graphique \n",
    "        graphique(axs, x, y, titres[mode_id])\n",
    "    else:\n",
    "        #Dans le cas où on veut l'ensemble des graphiques :\n",
    "\n",
    "        #On prépare l'affichage de matplotlib en le séparant en 3 graphiques.\n",
    "        fig, axes = plt.subplots(nrows=1, ncols=3, figsize=(12, 6))\n",
    "\n",
    "        i: int = 0\n",
    "        for ax in axes:\n",
    "            #Pour chaque mesure on va récuppèrer les données dans le dictionnaire de la même manière qu'au dessus nous allons en faire un graphique\n",
    "            y.clear()\n",
    "            x.clear()\n",
    "            for tmp in connectDict:\n",
    "                if temps_debut <= tmp and tmp <= temps_fin:\n",
    "                    y.append(connectDict[tmp][i])\n",
    "                    x.append(tmp)\n",
    "            graphique(ax, x, y, titres[i])\n",
    "            i += 1\n",
    "    fig.autofmt_xdate()  # On active la fonction de matplotlib permettant d'afficher en diagonale les dates pour faciliter la lecture\n"
   ]
  },
  {
   "cell_type": "markdown",
   "metadata": {},
   "source": [
    "#### Fonctions générant le deuxième graphique représentant les moyennes des différentes mesures de connectivité sur une période"
   ]
  },
  {
   "cell_type": "code",
   "execution_count": 10,
   "metadata": {},
   "outputs": [],
   "source": [
    "def affichageHistogrammeMoyennes(connectdict: Dict[str, List[int]], temps_debut: int = -1, temps_fin: int = float('inf')):\n",
    "    \"\"\"!\n",
    "    @brief Cette fonction permet de générer deux histogrammes. Le premier représentant l'upload et le download et le deuxième le ping\n",
    "\n",
    "    Paramètres : \n",
    "        @param connectdict : Dict[str,List[int]] => dictionnaire représentant les données de connectivité\n",
    "        @param temps_debut : int = -1 => Le timestamp de début de période, par défaut tous les timestamps seront compris\n",
    "        @param temps_fin : int = float('inf') => Le timestamp de fin de période, par défaut tous les timestamps seront compris\n",
    "\n",
    "    \"\"\"\n",
    "\n",
    "    if temps_debut == temps_fin:\n",
    "        temps_fin += 24*3600\n",
    "\n",
    "    # On prépare l'affichage matplotlib\n",
    "    fig, axes = plt.subplots(nrows=1, ncols=2, gridspec_kw={\n",
    "                             'width_ratios': [4, 1]})\n",
    "\n",
    "    # On déclare les variables qui nous seront utiles\n",
    "    titres: List[str] = [\"Ping\", \"Download\", \"Upload\"]\n",
    "    y: List[int] = [0, 0, 0]\n",
    "    compteur: List[int] = [0, 0, 0]\n",
    "\n",
    "    # On récuppère toutes les mesures sur la période concernée\n",
    "    for tmp in connectdict:\n",
    "        if temps_debut <= tmp and tmp <= temps_fin:\n",
    "            for i in range(3):\n",
    "                y[i] += connectdict[tmp][i]\n",
    "                compteur[i] += 1\n",
    "\n",
    "    # Premier graphique : Upload et Download\n",
    "\n",
    "    # On isole les mesures d'upload et de download et on fait leurs moyennes.\n",
    "    ry: List[float] = [y[i]/compteur[i] for i in range(2) if compteur[i] != 0]\n",
    "\n",
    "    # On vérifie qu'on a bien des valeurs à afficher sinon on affiche un histogramme vide\n",
    "    if len(ry) > 0:\n",
    "        axes[0].bar(\n",
    "            range(len(ry)),\n",
    "            ry\n",
    "        )\n",
    "    else:\n",
    "        axes[0].bar(\n",
    "            [0, 1],\n",
    "            [0, 0]\n",
    "        )\n",
    "    # On configure l'affichage\n",
    "    axes[0].yaxis.grid(True)\n",
    "    plt.sca(axes[0])\n",
    "\n",
    "    # On remplace les valeurs arbitraire des index par les noms de nos mesures\n",
    "    plt.xticks(range(len(titres)-1), titres[:2])\n",
    "\n",
    "    plt.ylabel(\"kilo octet/s\")\n",
    "    axes[0].set_title(\"Upload / Download\")\n",
    "\n",
    "    # On génère l'affichage des valeurs sur les barres de l'histogramme\n",
    "    for index, value in enumerate(ry):\n",
    "        axes[0].text(\n",
    "            index,\n",
    "            value//2,\n",
    "            f'{value:.5}',\n",
    "            ha=\"center\",\n",
    "            color=\"black\",\n",
    "            weight=\"bold\",\n",
    "            size=\"medium\"\n",
    "        )\n",
    "\n",
    "    # Second Graphique : Ping\n",
    "\n",
    "    # On effectue la moyenne des pings, si il n'y en a pas on met le plus grand entier possible pour signifier la perte de connectivité\n",
    "    if compteur[2] != 0:\n",
    "        ry = y[2]/compteur[2]\n",
    "    else:\n",
    "        ry = sys.maxsize\n",
    "\n",
    "    # On génère l'histogramme\n",
    "    axes[1].bar(0, ry)\n",
    "\n",
    "    # On configure l'affichage\n",
    "    axes[1].yaxis.grid(True)\n",
    "    plt.sca(axes[1])\n",
    "\n",
    "    plt.xticks([0], [\"Ping\"])\n",
    "    plt.ylabel(\"millisecondes\")\n",
    "    axes[1].set_title(\"Moyenne des pings\")\n",
    "    plt.subplots_adjust(wspace=0.4, top=.7)\n",
    "\n",
    "    # On génère l'affichage des valeurs sur les barres de l'histogramme\n",
    "    axes[1].text(\n",
    "        0,\n",
    "        ry//2,\n",
    "        f'{float(ry):.5}',\n",
    "        ha=\"center\",\n",
    "        color=\"black\",\n",
    "        weight=\"bold\",\n",
    "        size=\"medium\"\n",
    "    )\n",
    "\n",
    "    # On récuppère le premier et dernier timestamp qui seront utilisé pour montrer la période choisie\n",
    "    p_deb : str = dateFormatter(list(connectDict.keys())[0])\n",
    "    p_fin : str = dateFormatter(list(connectDict.keys())[-1])\n",
    "\n",
    "    # Si l'utilisateur à spécifier une autre période alors utilise les paramètres temps_debut et temps_fin\n",
    "    if temps_debut != -1:\n",
    "        p_deb = dateFormatter(temps_debut)\n",
    "    if temps_fin != float('inf'):\n",
    "        p_fin = dateFormatter(temps_fin)\n",
    "\n",
    "    # On affiche le titre avec la période choisie.\n",
    "    plt.suptitle(\n",
    "        f\"Moyennes des différentes mesures\\n Sur la période {p_deb} -> {p_fin}\", fontsize=18)"
   ]
  },
  {
   "cell_type": "markdown",
   "metadata": {
    "collapsed": false
   },
   "source": [
    "## Partie 2 : L'outil de supervision"
   ]
  },
  {
   "cell_type": "markdown",
   "metadata": {
    "collapsed": false
   },
   "source": [
    "### Importations des données depuis les fichiers csv"
   ]
  },
  {
   "cell_type": "code",
   "execution_count": 11,
   "metadata": {
    "collapsed": false
   },
   "outputs": [],
   "source": [
    "chemin_port: str = \"./python/portData.csv\"\n",
    "chemin_connect: str = \"./python/connectivityData.csv\"\n",
    "portDict: Dict[str, Dict[int, Dict[str, str]]\n",
    "               ] = recupperationDonnesPorts(chemin_port)\n",
    "connectDict: Dict[int, List[int]\n",
    "                  ] = recupperationDonnesConnectivite(chemin_connect)\n"
   ]
  },
  {
   "cell_type": "markdown",
   "metadata": {},
   "source": [
    "### Mise en place des fonctions permettant d'afficher des éléments dynamiques sur le notebook jupyter"
   ]
  },
  {
   "cell_type": "code",
   "execution_count": 12,
   "metadata": {
    "collapsed": false
   },
   "outputs": [
    {
     "data": {
      "application/vnd.jupyter.widget-view+json": {
       "model_id": "0d1118e085fb4b40b9a99a1cb80cdddf",
       "version_major": 2,
       "version_minor": 0
      },
      "text/plain": [
       "Button(button_style='success', description='Actualiser', style=ButtonStyle())"
      ]
     },
     "metadata": {},
     "output_type": "display_data"
    }
   ],
   "source": [
    "#Liste d'horaires qui seront utile pour l'affichage des sliders (éléments permettant de choisir le temps de la période)\n",
    "timeList : List[str] = [secondsToTime(i) for i in range(24*3600)]\n",
    "\n",
    "#Afin d'avoir une cohérence dans tous les affichages dynamiques, nous mettons en place un layout simple\n",
    "app_layout : widgets.Layout = widgets.Layout(display='flex',\n",
    "                            flex_flow='row nowrap',\n",
    "                            align_items='center',\n",
    "                            border='none',\n",
    "                            width='100%',\n",
    "                            margin='5px 5px 5px 5px')\n",
    "\n",
    "\n",
    "def commonWidgets(dropDownDescription: str, dropDownOptions: List[str], buttonDescription: str = \"Afficher\") -> List[widgets.Widget]:\n",
    "    \"\"\"!\n",
    "    @brief Cette fonction permet de générer les widgets dynamiques qui sont utilisés pour la plupart des affichages\n",
    "\n",
    "    Paramètres : \n",
    "        @param dropDownDescription : str => le Label du dropdown\n",
    "        @param dropDownOptions : List[str] => Les options du dropdown\n",
    "        @param buttonDescription : str = \"Afficher\" => le label du bouton\n",
    "    Retour de la fonction : \n",
    "        @return List[widgets.Widget] => La liste des widgets\n",
    "\n",
    "    \"\"\"\n",
    "\n",
    "    # Le dropdown\n",
    "    dropdown = widgets.Dropdown(\n",
    "        options=dropDownOptions,\n",
    "        value=dropDownOptions[0],\n",
    "        description=dropDownDescription,\n",
    "    )\n",
    "\n",
    "    # Les calendrier et slider pour le choix de période\n",
    "    deb = widgets.DatePicker(\n",
    "    )\n",
    "    deb_label = widgets.Label(\n",
    "        'Choisissez une date de début de période'\n",
    "    )\n",
    "    deb_picker = widgets.SelectionSlider(\n",
    "        options=timeList,\n",
    "        index=0,\n",
    "        value=timeList[0]\n",
    "    )\n",
    "    fin = widgets.DatePicker(\n",
    "    )\n",
    "    fin_label = widgets.Label(\n",
    "        'Choisissez une date de fin de période'\n",
    "    )\n",
    "    fin_picker = widgets.SelectionSlider(\n",
    "        options=timeList,\n",
    "        index=len(timeList)-1,\n",
    "        value=timeList[len(timeList)-1]\n",
    "    )\n",
    "    Hbox = widgets.HBox([\n",
    "        widgets.VBox([deb_label, deb, deb_picker]),\n",
    "        widgets.VBox([fin_label, fin, fin_picker]),\n",
    "    ])\n",
    "\n",
    "    # Le bouton d'affichage\n",
    "    button = widgets.Button(\n",
    "        description=buttonDescription,\n",
    "        button_style='info',\n",
    "        icon='check'\n",
    "    )\n",
    "\n",
    "    # La zone d'affichage Hors cellule\n",
    "    output = widgets.Output()\n",
    "\n",
    "    return [dropdown, deb, deb_picker, fin, fin_picker, Hbox, button, output]\n",
    "\n",
    "\n",
    "def notebookNombrePort(portDict: Dict[str, Dict[int, Dict[str, str]]]) -> widgets.Box:\n",
    "    \"\"\"!\n",
    "    @brief Cette fonction permet de générer l'ensemble des éléments qui permettrons de visualiser le nombre de port sur le serveur\n",
    "\n",
    "    Paramètres : \n",
    "        @param portDict : Dict[str,Dict[int,Dict[str,str]]] => Le dictionnaire représentant les données d'activité des ports\n",
    "    Retour de la fonction : \n",
    "        @return widgets.Box => Un Widget qui contient l'ensemble des éléments dynamiques\n",
    "\n",
    "    \"\"\"\n",
    "    interfaces : List[str] = list(portDict.keys())\n",
    "    interfaces.insert(0, \"Toutes\")\n",
    "\n",
    "    dropdown, deb, deb_picker, fin, fin_picker, Hbox, button_nombrePort, output = commonWidgets(\n",
    "        \"Interface :\", interfaces)\n",
    "\n",
    "    def func_button_nombrePort(_):\n",
    "        with output:\n",
    "            clear_output()\n",
    "            if deb.value != None and fin.value != None:\n",
    "                print(deb_picker.value)\n",
    "                affichageNombrePort(portDict, dropdown.value, inverseDateFormatter(\n",
    "                    f'{deb.value} {deb_picker.value}'), inverseDateFormatter(f'{fin.value} {fin_picker.value}'))\n",
    "            else:\n",
    "                affichageNombrePort(portDict, dropdown.value)\n",
    "            plt.show()\n",
    "\n",
    "    button_nombrePort.on_click(func_button_nombrePort)\n",
    "\n",
    "    Vbox : widgets.VBox = widgets.VBox([dropdown, Hbox, button_nombrePort, output])\n",
    "\n",
    "    app : widgets.Box = widgets.Box([Vbox], layout=app_layout)\n",
    "    return app\n",
    "\n",
    "\n",
    "def notebookActivitePort(portDict: Dict[str, Dict[int, Dict[str, str]]]) -> widgets.Box:\n",
    "    \"\"\"!\n",
    "    @brief Cette fonction permet de générer l'ensemble des éléments qui permettrons de visualiser l'activité d'un port sur le serveur\n",
    "\n",
    "    Paramètres : \n",
    "        @param portDict : Dict[str,Dict[int,Dict[str,str]]] => Le dictionnaire représentant les données d'activité des ports\n",
    "    Retour de la fonction : \n",
    "        @return widgets.Box => Un Widget qui contient l'ensemble des éléments dynamiques\n",
    "\n",
    "    \"\"\"\n",
    "    interfaces : List[str] = list(portDict.keys())\n",
    "    interfaces.insert(0, \"Toutes\")\n",
    "\n",
    "    dropdown, deb, deb_picker, fin, fin_picker, Hbox2, button_etatPort, output = commonWidgets(\n",
    "        \"Interface :\", interfaces, \"Afficher\")\n",
    "\n",
    "    port : widgets.BoundedIntText = widgets.BoundedIntText(\n",
    "        value=22,\n",
    "        min=0,\n",
    "        max=65535,\n",
    "        step=1,\n",
    "        description='n°port:',\n",
    "    )\n",
    "\n",
    "    Hbox1 : widgets.HBox = widgets.HBox([dropdown, port])\n",
    "\n",
    "    def func_button_etatPort(_):\n",
    "        with output:\n",
    "            clear_output()\n",
    "            if deb.value != None and fin.value != None:\n",
    "                affichageActivitePort(portDict, str(port.value), dropdown.value, inverseDateFormatter(\n",
    "                    f'{deb.value} {deb_picker.value}'), inverseDateFormatter(f'{fin.value} {fin_picker.value}'))\n",
    "            else:\n",
    "                affichageActivitePort(\n",
    "                    portDict, str(port.value), dropdown.value)\n",
    "            plt.show()\n",
    "\n",
    "    button_etatPort.on_click(func_button_etatPort)\n",
    "\n",
    "    Vbox : widgets.VBox = widgets.VBox([Hbox1, Hbox2, button_etatPort, output])\n",
    "\n",
    "    app : widgets.Box = widgets.Box([Vbox], layout=app_layout)\n",
    "    return app\n",
    "\n",
    "\n",
    "def notebookProportionProtocols(portDict: Dict[str, Dict[int, Dict[str, str]]]) -> widgets.Box:\n",
    "    \"\"\"!\n",
    "    @brief Cette fonction permet de générer l'ensemble des éléments qui permettrons de visualiser la proportion des protocols utilisés sur le serveur\n",
    "\n",
    "    Paramètres : \n",
    "        @param portDict : Dict[str,Dict[int,Dict[str,str]]] => Le dictionnaire représentant les données d'activité des ports\n",
    "    Retour de la fonction : \n",
    "        @return widgets.Box => Un Widget qui contient l'ensemble des éléments dynamiques\n",
    "\n",
    "    \"\"\"\n",
    "    interfaces : List[str] = list(portDict.keys())\n",
    "    interfaces.insert(0, \"Toutes\")\n",
    "\n",
    "    dropdown, deb, deb_picker, fin, fin_picker, Hbox, button_proportionProtocol, output = commonWidgets(\n",
    "        \"Interface :\", interfaces, \"Afficher\")\n",
    "\n",
    "    def func_button_proportionProtocol(_):\n",
    "        with output:\n",
    "            clear_output()\n",
    "            if deb.value != None and fin.value != None:\n",
    "                print(deb_picker.value)\n",
    "                affichageProportionProtocols(portDict, dropdown.value, inverseDateFormatter(\n",
    "                    f'{deb.value} {deb_picker.value}'), inverseDateFormatter(f'{fin.value} {fin_picker.value}'))\n",
    "            else:\n",
    "                affichageProportionProtocols(portDict, dropdown.value)\n",
    "            plt.show()\n",
    "\n",
    "    button_proportionProtocol.on_click(func_button_proportionProtocol)\n",
    "\n",
    "    Vbox : widgets.VBox = widgets.VBox([dropdown, Hbox, button_proportionProtocol, output])\n",
    "\n",
    "    app : widgets.Box = widgets.Box([Vbox], layout=app_layout)\n",
    "    return app\n",
    "\n",
    "\n",
    "def notebookStatistiquesConnectivite(connectDict: Dict[str, List[int]]) -> widgets.Box:\n",
    "    \"\"\"!\n",
    "    @brief Cette fonction permet de générer l'ensemble des éléments qui permettrons de visualiser la connectivité du serveur\n",
    "\n",
    "    Paramètres : \n",
    "        @param connectDict : Dict[str,List[int]] => Le dictionnaire représentant les données de connectivité\n",
    "    Retour de la fonction : \n",
    "        @return widgets.Box => Un Widget qui contient l'ensemble des éléments dynamiques\n",
    "\n",
    "    \"\"\"\n",
    "\n",
    "    modes : List[str] = [\"Tous\", \"Upload\", \"Download\", \"Ping\"]\n",
    "\n",
    "    dropdown, deb, deb_picker, fin, fin_picker, Hbox, button_statistiques, output = commonWidgets(\n",
    "        \"Mode :\", modes, \"Afficher\")\n",
    "\n",
    "    def func_button_statistiques(_):\n",
    "        with output:\n",
    "            clear_output()\n",
    "            if deb.value != None and fin.value != None:\n",
    "                print(deb_picker.value)\n",
    "                affichageStatistiqueConnectivite(connectDict, dropdown.value, inverseDateFormatter(\n",
    "                    f'{deb.value} {deb_picker.value}'), inverseDateFormatter(f'{fin.value} {fin_picker.value}'))\n",
    "            else:\n",
    "                affichageStatistiqueConnectivite(connectDict, dropdown.value)\n",
    "            plt.show()\n",
    "\n",
    "    button_statistiques.on_click(func_button_statistiques)\n",
    "\n",
    "    Vbox : widgets.VBox = widgets.VBox([dropdown, Hbox, button_statistiques, output])\n",
    "\n",
    "    app : widgets.Box = widgets.Box([Vbox], layout=app_layout)\n",
    "    return app\n",
    "\n",
    "\n",
    "def notebookMoyennesConnectivite(connectDict: Dict[str, List[int]]) -> widgets.Box:\n",
    "    \"\"\"!\n",
    "    @brief Cette fonction permet de générer l'ensemble des éléments qui serviront à la représentation des moyennes de connectivité.\n",
    "\n",
    "    Paramètres : \n",
    "        @param connectDict : Dict[str,List[int]] => Le dictionnaire représentant les données de connectivité\n",
    "    Retour de la fonction : \n",
    "        @return widgets.Box => Un Widget qui contient l'ensemble des éléments dynamiques\n",
    "\n",
    "    \"\"\"\n",
    "    modes : List[str] = [\"Tous\", \"Upload\", \"Download\", \"Ping\"]\n",
    "\n",
    "    _, deb, deb_picker, fin, fin_picker, Hbox, button_statistiques, output = commonWidgets(\n",
    "        \"Mode :\", modes, \"Afficher\")\n",
    "\n",
    "    def func_button_statistiques(_):\n",
    "        with output:\n",
    "            clear_output()\n",
    "            if deb.value != None and fin.value != None:\n",
    "                print(deb_picker.value)\n",
    "                affichageHistogrammeMoyennes(connectDict, inverseDateFormatter(\n",
    "                    f'{deb.value} {deb_picker.value}'), inverseDateFormatter(f'{fin.value} {fin_picker.value}'))\n",
    "            else:\n",
    "                affichageHistogrammeMoyennes(connectDict)\n",
    "            plt.show()\n",
    "\n",
    "    button_statistiques.on_click(func_button_statistiques)\n",
    "\n",
    "    Vbox : widgets.VBox = widgets.VBox([Hbox, button_statistiques, output])\n",
    "\n",
    "    app : widgets.Box = widgets.Box([Vbox], layout=app_layout)\n",
    "    return app\n",
    "\n",
    "\n",
    "actualisation_port_button = widgets.Button(\n",
    "    description='Actualiser',\n",
    "    button_style=\"success\"\n",
    ")\n",
    "\n",
    "\n",
    "def actualiser_port(_):\n",
    "    global portDict\n",
    "    global connectDict\n",
    "    portDict = recupperationDonnesPorts(chemin_port)\n",
    "    portDict = recupperationDonnesPorts(chemin_connect)\n",
    "\n",
    "\n",
    "actualisation_port_button.on_click(actualiser_port)\n",
    "\n",
    "actualisation_port_button\n"
   ]
  },
  {
   "cell_type": "markdown",
   "metadata": {
    "collapsed": false
   },
   "source": [
    "## Supervision du nombre de port ouverts sur le serveur"
   ]
  },
  {
   "cell_type": "code",
   "execution_count": 13,
   "metadata": {
    "collapsed": false
   },
   "outputs": [
    {
     "data": {
      "application/vnd.jupyter.widget-view+json": {
       "model_id": "a50db26db6174d64b7b0905512c942db",
       "version_major": 2,
       "version_minor": 0
      },
      "text/plain": [
       "Box(children=(VBox(children=(Dropdown(description='Interface :', options=('Toutes', '0.0.0.0', '192.162.70.239…"
      ]
     },
     "metadata": {},
     "output_type": "display_data"
    }
   ],
   "source": [
    "display(notebookNombrePort(portDict))\n"
   ]
  },
  {
   "cell_type": "markdown",
   "metadata": {
    "collapsed": false
   },
   "source": [
    "## Supervision de l'état d'un port sur le serveur"
   ]
  },
  {
   "cell_type": "code",
   "execution_count": 14,
   "metadata": {
    "collapsed": false
   },
   "outputs": [
    {
     "data": {
      "application/vnd.jupyter.widget-view+json": {
       "model_id": "9968e46ee2a5467e8827b87234c74908",
       "version_major": 2,
       "version_minor": 0
      },
      "text/plain": [
       "Box(children=(VBox(children=(HBox(children=(Dropdown(description='Interface :', options=('Toutes', '0.0.0.0', …"
      ]
     },
     "metadata": {},
     "output_type": "display_data"
    }
   ],
   "source": [
    "display(notebookActivitePort(portDict))\n"
   ]
  },
  {
   "cell_type": "markdown",
   "metadata": {},
   "source": [
    "## Supervision de la proportion des protocols sur le serveur"
   ]
  },
  {
   "cell_type": "code",
   "execution_count": 15,
   "metadata": {},
   "outputs": [
    {
     "data": {
      "application/vnd.jupyter.widget-view+json": {
       "model_id": "f8519e7d9b2149c599e8055dcbc537a6",
       "version_major": 2,
       "version_minor": 0
      },
      "text/plain": [
       "Box(children=(VBox(children=(Dropdown(description='Interface :', options=('Toutes', '0.0.0.0', '192.162.70.239…"
      ]
     },
     "metadata": {},
     "output_type": "display_data"
    }
   ],
   "source": [
    "display(notebookProportionProtocols(portDict))\n"
   ]
  },
  {
   "cell_type": "markdown",
   "metadata": {
    "collapsed": false
   },
   "source": [
    "## Supervision des statistiques de connectivité"
   ]
  },
  {
   "cell_type": "code",
   "execution_count": 16,
   "metadata": {},
   "outputs": [
    {
     "data": {
      "application/vnd.jupyter.widget-view+json": {
       "model_id": "b5d098816f5e41dbaf643ccdb9f437a1",
       "version_major": 2,
       "version_minor": 0
      },
      "text/plain": [
       "Box(children=(VBox(children=(Dropdown(description='Mode :', options=('Tous', 'Upload', 'Download', 'Ping'), va…"
      ]
     },
     "metadata": {},
     "output_type": "display_data"
    }
   ],
   "source": [
    "display(notebookStatistiquesConnectivite(connectDict))\n"
   ]
  },
  {
   "cell_type": "markdown",
   "metadata": {},
   "source": [
    "## Supervision des moyennes de connectivité"
   ]
  },
  {
   "cell_type": "code",
   "execution_count": 17,
   "metadata": {},
   "outputs": [
    {
     "data": {
      "application/vnd.jupyter.widget-view+json": {
       "model_id": "bb8fe35afa7a462f8389dad2f5ff1d21",
       "version_major": 2,
       "version_minor": 0
      },
      "text/plain": [
       "Box(children=(VBox(children=(HBox(children=(VBox(children=(Label(value='Choisissez une date de début de périod…"
      ]
     },
     "metadata": {},
     "output_type": "display_data"
    }
   ],
   "source": [
    "display(notebookMoyennesConnectivite(connectDict))\n"
   ]
  }
 ],
 "metadata": {
  "interpreter": {
   "hash": "63fd5069d213b44bf678585dea6b12cceca9941eaf7f819626cde1f2670de90d"
  },
  "kernelspec": {
   "display_name": "Python 3 (system-wide)",
   "language": "python",
   "metadata": {
    "cocalc": {
     "description": "Python 3 programming language",
     "priority": 100,
     "url": "https://www.python.org/"
    }
   },
   "name": "python3",
   "resource_dir": "/ext/jupyter/kernels/python3"
  },
  "language_info": {
   "codemirror_mode": {
    "name": "ipython",
    "version": 3
   },
   "file_extension": ".py",
   "mimetype": "text/x-python",
   "name": "python",
   "nbconvert_exporter": "python",
   "pygments_lexer": "ipython3",
   "version": "3.9.2"
  }
 },
 "nbformat": 4,
 "nbformat_minor": 4
}
